{
 "cells": [
  {
   "cell_type": "markdown",
   "id": "c1324e22",
   "metadata": {},
   "source": [
    "# Python Conditionals For Beginners\n",
    "\n",
    "## Understanding Python Conditionals\n",
    "\n",
    "### What are conditionals?\n",
    "\n",
    "Conditionals let a program make decisions. Conditionals decide which part of our code will run on the basis of whether a statment is True or False.\n",
    "\n",
    "- We use if, elif, and else keywords to make conditional logic in python\n",
    "\n",
    "- They use comparison and logical operators to decide which code block to execute\n",
    "\n",
    "- We use 4-tab space to indent between conditional statements\n"
   ]
  },
  {
   "cell_type": "markdown",
   "id": "6e01df78",
   "metadata": {},
   "source": [
    " ## 1. If Statement\n",
    "\n",
    "- We can use if statement when our condition is always True\n",
    "- If statements can be standalone statements\n",
    "- They dont have to have require else, elif statements necessarily\n"
   ]
  },
  {
   "cell_type": "code",
   "execution_count": 206,
   "id": "b68a3070",
   "metadata": {},
   "outputs": [
    {
     "name": "stdout",
     "output_type": "stream",
     "text": [
      "yes, ur an adult!\n"
     ]
    }
   ],
   "source": [
    "age = 25\n",
    "\n",
    "if age >= 25: \n",
    "    print(\"yes, ur an adult!\")"
   ]
  },
  {
   "cell_type": "markdown",
   "id": "b3f3b2ee",
   "metadata": {},
   "source": [
    "## 2. Else Statement\n",
    "\n",
    "- We can use else statement when using two conditions\n",
    "- Else runs when if statement is false\n",
    "- Else statement cannot be standalone\n",
    "- It requires if/elif statements always"
   ]
  },
  {
   "cell_type": "code",
   "execution_count": 207,
   "id": "233eb608",
   "metadata": {},
   "outputs": [
    {
     "name": "stdout",
     "output_type": "stream",
     "text": [
      "uhoh! ur minor\n"
     ]
    }
   ],
   "source": [
    "age = 7\n",
    "\n",
    "if age >= 18: \n",
    "    print(\"adult\")\n",
    "else:\n",
    "    print(\"uhoh! ur minor\")"
   ]
  },
  {
   "cell_type": "markdown",
   "id": "5b53d7fb",
   "metadata": {},
   "source": [
    "## 3. Elif Statement\n",
    "We use elif statements for multiple conditions"
   ]
  },
  {
   "cell_type": "code",
   "execution_count": 208,
   "id": "0e8a145b",
   "metadata": {},
   "outputs": [
    {
     "name": "stdout",
     "output_type": "stream",
     "text": [
      "F\n"
     ]
    }
   ],
   "source": [
    "score = 40\n",
    "\n",
    "if score >= 90:\n",
    "    print(\"A\")\n",
    "elif score >= 70:\n",
    "    print(\"B\")\n",
    "elif score >= 60:\n",
    "    print(\"C\")\n",
    "else: \n",
    "    print(\"F\")\n"
   ]
  },
  {
   "cell_type": "markdown",
   "id": "0cdf4ec9",
   "metadata": {},
   "source": [
    "## 4. Nested Conditionals\n",
    "\n",
    "- If statements can have another if statement nested in it\n",
    "- Nested conditionals are fine for 1-2 statements \n",
    "- To avoid too much messy nesting, we use AND, OR operators"
   ]
  },
  {
   "cell_type": "code",
   "execution_count": 209,
   "id": "b99ef007",
   "metadata": {},
   "outputs": [
    {
     "name": "stdout",
     "output_type": "stream",
     "text": [
      "zero or -ve\n"
     ]
    }
   ],
   "source": [
    "x = 0\n",
    "\n",
    "if x > 0:\n",
    "    if x % 2 == 0:\n",
    "        print(\"+ve and even\")\n",
    "    else:\n",
    "        print(\"+ve and odd\")\n",
    "else: \n",
    "    print(\"zero or -ve\")"
   ]
  },
  {
   "cell_type": "markdown",
   "id": "1f5ec26f",
   "metadata": {},
   "source": [
    " ## 5. Comparison Operators and Conditionals\n",
    "\n",
    "These operators help us compare the values when using conditionals\n",
    "\n",
    "1. (==) equal to\n",
    "2. (!=) not equal to\n",
    "3. (>) greater than\n",
    "4. (<) less than\n",
    "5. (>=) greater than or equal to\n",
    "6. (<=) less than or equal to"
   ]
  },
  {
   "cell_type": "code",
   "execution_count": 210,
   "id": "2fea0df9",
   "metadata": {},
   "outputs": [
    {
     "name": "stdout",
     "output_type": "stream",
     "text": [
      "True\n",
      "False\n"
     ]
    }
   ],
   "source": [
    "a = 5\n",
    "b = 5\n",
    "\n",
    "print(a==b)\n",
    "print(a!=b)"
   ]
  },
  {
   "cell_type": "markdown",
   "id": "2f789fdb",
   "metadata": {},
   "source": [
    "## 6. Logical Operators\n",
    "\n",
    "1. and > both conditions must be True\n",
    "2. or > one condition must be true\n",
    "3. not > flips the boolean value "
   ]
  },
  {
   "cell_type": "code",
   "execution_count": 211,
   "id": "09daa635",
   "metadata": {},
   "outputs": [
    {
     "name": "stdout",
     "output_type": "stream",
     "text": [
      "access granted but limited\n"
     ]
    }
   ],
   "source": [
    "#we use smallcase logical ops in python unlike JavaScript that uses uppercase\n",
    "\n",
    "age = 20\n",
    "has_id = False\n",
    "\n",
    "if age >= 20 or has_id:\n",
    "    print(\"access granted but limited\")"
   ]
  },
  {
   "cell_type": "markdown",
   "id": "3056c8f6",
   "metadata": {},
   "source": [
    "## 7. Chained Comparisons\n",
    "\n",
    "- We can check range of a number neatly in python"
   ]
  },
  {
   "cell_type": "code",
   "execution_count": 212,
   "id": "271f54da",
   "metadata": {},
   "outputs": [
    {
     "name": "stdout",
     "output_type": "stream",
     "text": [
      "this x is between 1 and 1o\n"
     ]
    }
   ],
   "source": [
    "x = 5\n",
    "\n",
    "if 1 < x <= 10:\n",
    "    print(\"this x is between 1 and 1o\")"
   ]
  },
  {
   "cell_type": "markdown",
   "id": "d01449fe",
   "metadata": {},
   "source": [
    " ## 8. Truthy and Falsy Values\n",
    "\n",
    "- When Python checks a condition (like in an if statement), it doesn’t always require a strict True or False\n",
    "- Instead, every value in Python is automatically interpreted as either “truthy” or “falsey”\n",
    "\n",
    "That means:\n",
    "\n",
    "- Some values are treated as False when checked in a condition\n",
    "\n",
    "- Everything else is treated as True so these are truthy values"
   ]
  },
  {
   "cell_type": "markdown",
   "id": "a1844afe",
   "metadata": {},
   "source": [
    "### 9. Flasy Values\n",
    "\n",
    "- 0         Zero integer\n",
    "- 0.0       Zero float\n",
    "- '  '        Empty string\n",
    "- []        Empty list\n",
    "- {}        Empty dictionary\n",
    "- None      Special 'nothing' value\n",
    "- False     Boolean False\n"
   ]
  },
  {
   "cell_type": "code",
   "execution_count": 213,
   "id": "f1ba4a55",
   "metadata": {},
   "outputs": [
    {
     "name": "stdout",
     "output_type": "stream",
     "text": [
      "no name\n"
     ]
    }
   ],
   "source": [
    "has_name = \"\"\n",
    "\n",
    "if has_name:\n",
    "    print(\"True\")\n",
    "else:\n",
    "    print(\"no name\")"
   ]
  },
  {
   "cell_type": "markdown",
   "id": "2bc5ba5d",
   "metadata": {},
   "source": [
    " ### 10. Truthy Values\n",
    "\n",
    "All other values are truthy which means Python treats them as True when used in a condition \n",
    "\n",
    "- \"Sidraa\"    Non-empty string\n",
    "- 123         Any non-zero number\n",
    "- [1, 2, 3]   Non-empty list\n",
    "- {\"x\": 5}    Non-empty dictionary\n",
    "- True        Boolean True\n"
   ]
  },
  {
   "cell_type": "code",
   "execution_count": 214,
   "id": "30fd5e68",
   "metadata": {},
   "outputs": [
    {
     "name": "stdout",
     "output_type": "stream",
     "text": [
      "this is a name\n"
     ]
    }
   ],
   "source": [
    "name = \"sid\"\n",
    "\n",
    "if name:\n",
    "    print(\"this is a name\")\n",
    "else: \n",
    "    print(\"cant find name\")"
   ]
  },
  {
   "cell_type": "markdown",
   "id": "c6f7060f",
   "metadata": {},
   "source": [
    "## 11. Equality Vs Identity\n",
    "\n",
    "- Equality is = which is used to compare values\n",
    "- Identity is (is) which is used to check if two variables point to same object"
   ]
  },
  {
   "cell_type": "code",
   "execution_count": 215,
   "id": "d6ccefe6",
   "metadata": {},
   "outputs": [
    {
     "name": "stdout",
     "output_type": "stream",
     "text": [
      "True\n",
      "False\n"
     ]
    }
   ],
   "source": [
    "a = [1,2]\n",
    "b = [1,2]\n",
    "\n",
    "#here if b=a then it would have given true coz both would have pointed to same object\n",
    "\n",
    "print(a==b)\n",
    "print(a is b)"
   ]
  },
  {
   "cell_type": "markdown",
   "id": "b1b581c0",
   "metadata": {},
   "source": [
    "## 12. Ternary Conditionals\n",
    "\n",
    "This is a small syntax to write if and else statements in one line"
   ]
  },
  {
   "cell_type": "code",
   "execution_count": 216,
   "id": "76f97abf",
   "metadata": {},
   "outputs": [
    {
     "name": "stdout",
     "output_type": "stream",
     "text": [
      "odd\n",
      "child\n"
     ]
    }
   ],
   "source": [
    "x = 7\n",
    "\n",
    "result = \"even\" if x % 2 == 0 else \"odd\"\n",
    "print(result)\n",
    "\n",
    "age = 5\n",
    "\n",
    "status = \"adult\" if age >=40 else \"child\"\n",
    "print(status)"
   ]
  },
  {
   "cell_type": "markdown",
   "id": "44fd13b7",
   "metadata": {},
   "source": [
    "## 13. Membership Operator (in)\n",
    "\n",
    "This operator checks if a value exists inside a sequence"
   ]
  },
  {
   "cell_type": "code",
   "execution_count": 217,
   "id": "85166c26",
   "metadata": {},
   "outputs": [
    {
     "name": "stdout",
     "output_type": "stream",
     "text": [
      "sidra isnt a true name\n"
     ]
    }
   ],
   "source": [
    "letter = \"g\"\n",
    "\n",
    "if letter in \"sidra\":\n",
    "    print(\"sidra is a true name\")\n",
    "else:\n",
    "    print(\"sidra isnt a true name\")"
   ]
  },
  {
   "cell_type": "markdown",
   "id": "105dba38",
   "metadata": {},
   "source": [
    "# Mini Exercises\n",
    "\n",
    " ## 1. Checking even and odd numbers"
   ]
  },
  {
   "cell_type": "code",
   "execution_count": 218,
   "id": "ee66e41c",
   "metadata": {},
   "outputs": [
    {
     "name": "stdout",
     "output_type": "stream",
     "text": [
      "no, odd\n"
     ]
    }
   ],
   "source": [
    "x = 5\n",
    "\n",
    "if x % 2 == 0:\n",
    "    print(\"yes, even\")\n",
    "else:\n",
    "    print(\"no, odd\")"
   ]
  },
  {
   "cell_type": "markdown",
   "id": "777eb542",
   "metadata": {},
   "source": [
    " ## 2. Grading System "
   ]
  },
  {
   "cell_type": "code",
   "execution_count": 219,
   "id": "1e962633",
   "metadata": {},
   "outputs": [
    {
     "name": "stdout",
     "output_type": "stream",
     "text": [
      "congrats you have A\n"
     ]
    }
   ],
   "source": [
    "grade = 9\n",
    "\n",
    "if grade >= 9:\n",
    "    print(\"congrats you have A\")\n",
    "elif grade >=8:\n",
    "    print(\"you have B yayy\")\n",
    "elif grade >=7:\n",
    "    print(\"you have C wow\")\n",
    "elif grade >=6:\n",
    "    print(\"you have D good\")\n",
    "else:\n",
    "    print(\"ohno u have failed\")"
   ]
  },
  {
   "cell_type": "markdown",
   "id": "c385fe43",
   "metadata": {},
   "source": [
    "## 1. Mini Challenge Number Classifier"
   ]
  },
  {
   "cell_type": "code",
   "execution_count": 220,
   "id": "d9dff4bc",
   "metadata": {},
   "outputs": [
    {
     "name": "stdout",
     "output_type": "stream",
     "text": [
      "negative\n"
     ]
    }
   ],
   "source": [
    "n = -2\n",
    "\n",
    "if n > 0:\n",
    "    print(\"positive\")\n",
    "elif n < 0:\n",
    "    print(\"negative\")\n",
    "else:\n",
    "    print(\"is this even a number i wonder\")"
   ]
  },
  {
   "cell_type": "markdown",
   "id": "4e081f65",
   "metadata": {},
   "source": [
    "## 1. Mini Project Category Classifyer\n"
   ]
  },
  {
   "cell_type": "code",
   "execution_count": 221,
   "id": "1a00885a",
   "metadata": {},
   "outputs": [
    {
     "name": "stdout",
     "output_type": "stream",
     "text": [
      "old\n"
     ]
    }
   ],
   "source": [
    "age = 60\n",
    "\n",
    "if age <= 20:\n",
    "    print(\"adult\")\n",
    "elif age <= 5:\n",
    "    print(\"child\")\n",
    "elif age <= 15:\n",
    "    print(\"teen\")\n",
    "else: \n",
    "    print(\"old\")"
   ]
  },
  {
   "cell_type": "markdown",
   "id": "a1db8390",
   "metadata": {},
   "source": [
    "# 2. Mini Project Traffic Lights"
   ]
  },
  {
   "cell_type": "code",
   "execution_count": 5,
   "id": "b28e8663",
   "metadata": {},
   "outputs": [
    {
     "name": "stdout",
     "output_type": "stream",
     "text": [
      "keep sitting in your car\n"
     ]
    }
   ],
   "source": [
    "light = \"purple\"\n",
    "\n",
    "if (light == \"green\"):\n",
    "    print(\"go\")\n",
    "elif (light == \"red\"):\n",
    "    print(\"stop\")\n",
    "elif (light == \"yellow\"):\n",
    "    print(\"wait for a while\")\n",
    "else:\n",
    "    print(\"keep sitting in your car\")"
   ]
  },
  {
   "cell_type": "markdown",
   "id": "0b8eaa43",
   "metadata": {},
   "source": [
    "# 3. Mini Project Grading System"
   ]
  },
  {
   "cell_type": "code",
   "execution_count": null,
   "id": "84786d99",
   "metadata": {},
   "outputs": [
    {
     "name": "stdout",
     "output_type": "stream",
     "text": [
      "B\n"
     ]
    }
   ],
   "source": [
    "# marks = int(input(\"enter marks\"))\n",
    "\n",
    "# if (marks >= 90):\n",
    "#     print(\"A\")\n",
    "# elif (marks >= 80 and marks < 90):\n",
    "#     print(\"B\")\n",
    "# elif (marks >=70 and marks < 60):\n",
    "#     print(\"C\")\n",
    "# else:\n",
    "#     print(\"D\")"
   ]
  }
 ],
 "metadata": {
  "kernelspec": {
   "display_name": "Python 3",
   "language": "python",
   "name": "python3"
  },
  "language_info": {
   "codemirror_mode": {
    "name": "ipython",
    "version": 3
   },
   "file_extension": ".py",
   "mimetype": "text/x-python",
   "name": "python",
   "nbconvert_exporter": "python",
   "pygments_lexer": "ipython3",
   "version": "3.14.0"
  }
 },
 "nbformat": 4,
 "nbformat_minor": 5
}
