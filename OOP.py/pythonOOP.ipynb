{
 "cells": [
  {
   "cell_type": "markdown",
   "id": "b9d382c8",
   "metadata": {},
   "source": [
    "# Object Oriented Porgramming In Python (OOP)\n",
    "\n",
    "## Understanding OOP\n",
    "\n",
    "### What is OOP?\n",
    "\n",
    "- To map with real world scenarios, we use objects in code which is called object oriented programming\n",
    "\n",
    "- People used first procedural programming which caused redundancy in code\n",
    "\n",
    "- Then devs used functional programming where functions were used to minimize redundancy and maximize readability\n",
    "\n",
    "- However a more better way of modern coding is OOP which uses objects and classes to maximize code readablity\n",
    "\n",
    "- It is not compulsory to use OOP in every python project, but we must know this concept as a good coder"
   ]
  },
  {
   "cell_type": "markdown",
   "id": "4fc6dbe8",
   "metadata": {},
   "source": [
    "## 1. What are Objects & Classes In An Object?\n",
    "\n",
    "- We can create different objects in python but first they must be defined in a class\n",
    "\n",
    "- Class is a blueprint for creating objects\n",
    "\n",
    "- Classes contain all the information about objects\n",
    "\n",
    "- We use class keyword to define a class\n",
    "\n",
    "- Class names are always started with capital letters"
   ]
  }
 ],
 "metadata": {
  "kernelspec": {
   "display_name": "Python 3",
   "language": "python",
   "name": "python3"
  },
  "language_info": {
   "name": "python",
   "version": "3.14.0"
  }
 },
 "nbformat": 4,
 "nbformat_minor": 5
}
