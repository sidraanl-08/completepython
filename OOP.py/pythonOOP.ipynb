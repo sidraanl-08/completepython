{
 "cells": [
  {
   "cell_type": "markdown",
   "id": "b9d382c8",
   "metadata": {},
   "source": [
    "# Object Oriented Porgramming In Python (OOP)\n",
    "\n",
    "## Understanding OOP\n",
    "\n",
    "### What is OOP?\n",
    "\n",
    "- To map with real world scenarios, we use objects in code which is called object oriented programming\n",
    "\n",
    "- People used first procedural programming which caused redundancy in code\n",
    "\n",
    "- Then devs used functional programming where functions were used to minimize redundancy and maximize readability\n",
    "\n",
    "- However a more better way of modern coding is OOP which uses objects and classes to maximize code readablity\n",
    "\n",
    "- It is not compulsory to use OOP in every python project, but we must know this concept as a good coder"
   ]
  },
  {
   "cell_type": "markdown",
   "id": "4fc6dbe8",
   "metadata": {},
   "source": [
    "## 1. What are Objects & Classes In An Object?\n",
    "\n",
    "- We can create different objects in python but first they must be defined in a class\n",
    "\n",
    "- Class is a blueprint for creating objects\n",
    "\n",
    "- Classes contain all the information about objects\n",
    "\n",
    "- We use class keyword to define a class\n",
    "\n",
    "- Class names are always started with capital letters"
   ]
  },
  {
   "cell_type": "code",
   "execution_count": null,
   "id": "3ec59dcc",
   "metadata": {},
   "outputs": [
    {
     "name": "stdout",
     "output_type": "stream",
     "text": [
      "<__main__.Student object at 0x000001F92BC2F380>\n",
      "sidraa nl\n",
      "sidraa nl\n"
     ]
    }
   ],
   "source": [
    "#here we are defining a simple class named Student\n",
    "\n",
    "class Student:\n",
    "    name = \"sidraa nl\"\n",
    "\n",
    "#here we are creating an instance of the Student class and printing it\n",
    "\n",
    "s1 = Student()\n",
    "print(s1) #the output says that s1 is an object created at this memory\n",
    "\n",
    "#now this will tell that the name is same for every student in a class \n",
    "\n",
    "print(s1.name)\n",
    "\n",
    "#checking it by creating another obj \n",
    "\n",
    "s2 = Student()\n",
    "print(s2.name) #it gives the same name as s1"
   ]
  }
 ],
 "metadata": {
  "kernelspec": {
   "display_name": "Python 3",
   "language": "python",
   "name": "python3"
  },
  "language_info": {
   "codemirror_mode": {
    "name": "ipython",
    "version": 3
   },
   "file_extension": ".py",
   "mimetype": "text/x-python",
   "name": "python",
   "nbconvert_exporter": "python",
   "pygments_lexer": "ipython3",
   "version": "3.14.0"
  }
 },
 "nbformat": 4,
 "nbformat_minor": 5
}
