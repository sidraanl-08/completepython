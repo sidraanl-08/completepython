{
 "cells": [
  {
   "cell_type": "markdown",
   "id": "b9d382c8",
   "metadata": {},
   "source": [
    "# Object Oriented Porgramming In Python (OOP)\n",
    "\n",
    "## Understanding OOP\n",
    "\n",
    "### What is OOP?\n",
    "\n",
    "- To map with real world scenarios, we use objects in code which is called object oriented programming\n",
    "\n",
    "- People used first procedural programming which caused redundancy in code\n",
    "\n",
    "- Then devs used functional programming where functions were used to minimize redundancy and maximize readability\n",
    "\n",
    "- However a more better way of modern coding is OOP which uses objects and classes to maximize code readablity\n",
    "\n",
    "- It is not compulsory to use OOP in every python project, but we must know this concept as a good coder"
   ]
  },
  {
   "cell_type": "markdown",
   "id": "4fc6dbe8",
   "metadata": {},
   "source": [
    "## 1. What are Objects & Classes In An Object?\n",
    "\n",
    "- We can create different objects in python but first they must be defined in a class\n",
    "\n",
    "- Class is a blueprint for creating objects\n",
    "\n",
    "- Classes contain all the information about objects\n",
    "\n",
    "- We use class keyword to define a class\n",
    "\n",
    "- Class names are always started with capital letters"
   ]
  },
  {
   "cell_type": "markdown",
   "id": "8f90be33",
   "metadata": {},
   "source": [
    "## 2. Working With OOP Without __init__() Constructor"
   ]
  },
  {
   "cell_type": "code",
   "execution_count": 242,
   "id": "3ec59dcc",
   "metadata": {},
   "outputs": [
    {
     "name": "stdout",
     "output_type": "stream",
     "text": [
      "<__main__.Student object at 0x0000013E0CA65BE0>\n",
      "sidraa nl\n",
      "sidraa nl\n"
     ]
    }
   ],
   "source": [
    "#here we are defining a simple class named Student\n",
    "\n",
    "class Student:\n",
    "    name = \"sidraa nl\"\n",
    "\n",
    "#here we are creating an instance of the Student class and printing it\n",
    "\n",
    "s1 = Student()\n",
    "print(s1) #the output says that s1 is an object created at this memory\n",
    "\n",
    "#now this will tell that the name is same for every student in a class \n",
    "\n",
    "print(s1.name)\n",
    "\n",
    "#checking it by creating another obj \n",
    "\n",
    "s2 = Student()\n",
    "print(s2.name) #it gives the same name as s1\n",
    "\n"
   ]
  },
  {
   "cell_type": "markdown",
   "id": "9ef63bf2",
   "metadata": {},
   "source": [
    "## 3. Making Objs With Multiple Info In Class"
   ]
  },
  {
   "cell_type": "code",
   "execution_count": 243,
   "id": "1c933ab6",
   "metadata": {},
   "outputs": [
    {
     "name": "stdout",
     "output_type": "stream",
     "text": [
      "blue\n",
      "mercedes\n"
     ]
    }
   ],
   "source": [
    "class Car:\n",
    "    color = \"blue\"\n",
    "    brand = \"mercedes\"\n",
    "\n",
    "car1 = Car()\n",
    "print(car1.color)\n",
    "\n",
    "print(car1.brand)"
   ]
  },
  {
   "cell_type": "markdown",
   "id": "564bc721",
   "metadata": {},
   "source": [
    "## 4. Constructor In OOP\n",
    "\n",
    "- A constructor is a function called _init_() that is invoked while an obj is being initiated"
   ]
  },
  {
   "cell_type": "code",
   "execution_count": 244,
   "id": "e847a7ed",
   "metadata": {},
   "outputs": [
    {
     "name": "stdout",
     "output_type": "stream",
     "text": [
      "<__main__.Person object at 0x0000013E0CA65D30>\n",
      "adding a new person in the database....\n",
      "zoe doe 84\n",
      "<__main__.Person object at 0x0000013E0CF90A50>\n",
      "adding a new person in the database....\n",
      "danny ben 100\n"
     ]
    }
   ],
   "source": [
    "#the variables/data that we store inside a class are called attributes\n",
    "\n",
    "class Person:\n",
    "    def __init__(self, name, marks): #the constructor is invoking itself by using \"self\"\n",
    "        self.name = name\n",
    "        self.marks = marks\n",
    "        print(self)\n",
    "        print(\"adding a new person in the database....\")\n",
    "\n",
    "p1 = Person(\"zoe doe\", 84) #here constructor is being invoked since obj is being initiated \n",
    "print(p1.name, p1.marks) #here both self and p1 are same objs \n",
    "\n",
    "\n",
    "p2 = Person(\"danny ben\", 100) \n",
    "print(p2.name, p2.marks)  #as we can see constructor is being called with every new obj created\n"
   ]
  },
  {
   "cell_type": "markdown",
   "id": "b5101da8",
   "metadata": {},
   "source": [
    "## 5. Types Of Constructors In OOP\n",
    "\n",
    "- Default Parameters: Those constructors having only 1 parameter mostly self are called default parameters \n",
    "\n",
    "- If we dont make default constructors, python will make them itself\n",
    "\n",
    "- They are hidden constructors, we dont have to see them in our code\n",
    "\n",
    "- Parameterzied Constructors: Those are constructors that have parameters in them are called parameterized constructors "
   ]
  },
  {
   "cell_type": "code",
   "execution_count": 245,
   "id": "07b1d3d2",
   "metadata": {},
   "outputs": [
    {
     "name": "stdout",
     "output_type": "stream",
     "text": [
      "zoe doe 84\n"
     ]
    }
   ],
   "source": [
    "#this is a default constructor\n",
    "\n",
    "\n",
    "class Human:\n",
    "    def __init__(self):\n",
    "        print(\"this is a default constructor\")\n",
    "\n",
    "\n",
    "#this is a parameterized constructor\n",
    "\n",
    "\n",
    "class Person:\n",
    "    def __init__(self, name, marks): \n",
    "        self.name = name\n",
    "        self.marks = marks\n",
    "\n",
    "p1 = Person(\"zoe doe\", 84) \n",
    "print(p1.name, p1.marks) #only that constructor will be called which matches the parameters we give"
   ]
  },
  {
   "cell_type": "markdown",
   "id": "2feedf7d",
   "metadata": {},
   "source": [
    "## 6. Types Of Attributes In OOP\n",
    "\n",
    "- There are 2 types of attributes (attr)\n",
    "\n",
    "- Class Attributes: These attributes are common for a class, means entire class will use only these attrs\n",
    "\n",
    "- Instance Attributes: These attributes depend on the instance/obj\n"
   ]
  },
  {
   "cell_type": "code",
   "execution_count": 246,
   "id": "90c784c0",
   "metadata": {},
   "outputs": [
    {
     "name": "stdout",
     "output_type": "stream",
     "text": [
      "brown large $150,000\n",
      "white medium $120,000\n",
      "brown large $200,000\n",
      "kiwi green\n",
      "fruitbasket\n",
      "mango yellow\n",
      "fruitbasket\n",
      "cherry red\n",
      "fruitbasket\n",
      "german shepherd max\n"
     ]
    }
   ],
   "source": [
    "#instance attrs are always defined by using self dot \n",
    "#they keep changing depending on the obj \n",
    "#for instance name of a s1, s2, s3, s4, s5 will be different due to obj attribute\n",
    "\n",
    "class House:\n",
    "    def __init__(self, color, size, price):\n",
    "        self.color = color\n",
    "        self.size = size\n",
    "        self.price = price\n",
    "\n",
    "#self fot color,size, price are instance attrs coz they r diff for every obj\n",
    "#we must use all the parameters while creating objs of this class\n",
    "#else it will give error\n",
    "\n",
    "h1 = House(\"brown\", \"large\", \"$150,000\")\n",
    "print(h1.color, h1.size, h1.price)\n",
    "\n",
    "h2 = House(\"white\", \"medium\", \"$120,000\")\n",
    "print(h2.color, h2.size, h2.price)\n",
    "\n",
    "h3 = House(\"brown\", \"large\", \"$200,000\")\n",
    "print(h3.color, h3.size, h3.price)\n",
    "\n",
    "\n",
    "#class attrs stay the same for every class no matter how many objs we create\n",
    "\n",
    "class Basket:\n",
    "\n",
    "    basket_name = \"fruitbasket\"  #this class variable is same for all objs of this class\n",
    "\n",
    "    def __init__(self, fruit, color):\n",
    "        self.fruit = fruit\n",
    "        self.color = color\n",
    "        \n",
    "f1 = Basket(\"kiwi\", \"green\")\n",
    "\n",
    "print(f1.fruit, f1.color)\n",
    "print(Basket.basket_name) #class attrs r called by using class name dot attr name\n",
    "\n",
    "f2 = Basket(\"mango\", \"yellow\")\n",
    "\n",
    "print(f2.fruit, f2.color)\n",
    "print(Basket.basket_name)\n",
    "\n",
    "f3 = Basket(\"cherry\", \"red\")\n",
    "\n",
    "print(f3.fruit, f3.color)\n",
    "print(Basket.basket_name)\n",
    "\n",
    "#if both class and name attrs are same, then it will print the obj attr value\n",
    "\n",
    "class Dogs:\n",
    "    breed = \"labrador\" #class attr\n",
    "\n",
    "    def __init__(self, breed, name):\n",
    "        self.breed = breed #obj attr, so it will ovverride class attr \n",
    "        self.name = name\n",
    "\n",
    "    \n",
    "d1 = Dogs(\"german shepherd\", \"max\")\n",
    "print(d1.breed, d1.name)"
   ]
  },
  {
   "cell_type": "markdown",
   "id": "5d51d330",
   "metadata": {},
   "source": [
    "## 10. Private & Public Attributes & Methods\n",
    "\n",
    "- We can access public attrs from outside a class as well\n",
    "\n",
    "- We can access private attrs only from inside a class"
   ]
  },
  {
   "cell_type": "code",
   "execution_count": 247,
   "id": "5d9c9988",
   "metadata": {},
   "outputs": [
    {
     "name": "stdout",
     "output_type": "stream",
     "text": [
      "sidraa\n"
     ]
    }
   ],
   "source": [
    "#this is public accessing\n",
    "\n",
    "class Student:\n",
    "    def __init__(self, name):\n",
    "        self.name = name\n",
    "\n",
    "s1 = Student(\"sidraa\")\n",
    "print(s1.name)\n",
    "\n",
    "#this is private accessing\n",
    "\n",
    "class Account:\n",
    "    def __init__(self, acc_no, acc_pass):\n",
    "        self.acc = acc_no\n",
    "        self.__passw = acc_pass\n",
    "\n",
    "#here we are accessing acc no and acc passw from outside \n",
    "#it is a bad practice coz this is sensitive info\n",
    "\n",
    "\n",
    "#now to make it private we use double underscore before the attr name\n",
    "#now it is not possible to access __passw from outside the class\n",
    "\n",
    "# acc1 = Account(\"12345\", \"abcde\")\n",
    "# print(acc1.acc, acc1.__passw)\n",
    "\n",
    "\n",
    "#we can also make methods private by using double underscores \n",
    "\n",
    "class Person:\n",
    "    __name = \"anonymous\" #private attr\n",
    "\n",
    "# p1 = Person()\n",
    "# print(p1.__name) #this will give error coz __name is private\n",
    "\n"
   ]
  },
  {
   "cell_type": "markdown",
   "id": "0593916d",
   "metadata": {},
   "source": [
    "## 7. Methods In OOP\n",
    "\n",
    "- Methods are functions that belong to objs\n",
    "\n",
    "- Methods can be of two types: static and non static\n",
    "\n",
    "- Class has 2 things\n",
    "\n",
    "- One is data(attributes) and second is functions\n",
    "\n",
    "- Methods will always have self as first parameter"
   ]
  },
  {
   "cell_type": "markdown",
   "id": "3fb13cc2",
   "metadata": {},
   "source": [
    "### Non Static Methods\n",
    "\n",
    "- These methods use parameters"
   ]
  },
  {
   "cell_type": "code",
   "execution_count": 248,
   "id": "357587a8",
   "metadata": {},
   "outputs": [
    {
     "name": "stdout",
     "output_type": "stream",
     "text": [
      "welcome user!\n",
      "welcome user! alice\n"
     ]
    }
   ],
   "source": [
    "#this is a case of non static method\n",
    "\n",
    "class User(): #this is a class\n",
    "\n",
    "    def __init__(self, name):\n",
    "        self.name = name #this is an instance attr\n",
    "\n",
    "    def welcome(self): #this is a method\n",
    "        print(\"welcome user!\") #we dont have to pass self while calling the method\n",
    "        print(\"welcome user!\", self.name) \n",
    "\n",
    "u1 = User(\"alice\") #this is an obj\n",
    "u1.welcome() #this is calling the method using the obj\n",
    " "
   ]
  },
  {
   "cell_type": "markdown",
   "id": "908ab7c3",
   "metadata": {},
   "source": [
    "### Static Methods\n",
    "\n",
    "- this is a case of static method\n",
    "\n",
    "- these methods dont use self as parameter\n",
    "\n",
    "- they work on class level \n",
    "\n",
    "- static methods can use decorators like @staticmethod \n",
    "\n",
    "- decorators can covert a function into a static method\n",
    "\n",
    "- they dont access class, and obj attributes\n",
    "\n"
   ]
  },
  {
   "cell_type": "markdown",
   "id": "c85bfeaa",
   "metadata": {},
   "source": [
    "### Decorators In OOP\n",
    "\n",
    "### What is a decorator?\n",
    "\n",
    "- A decorator is a function that takes another function (or method) and extends or modifies its behavior without changing its code.\n",
    "\n",
    "- Think of it as wrapping a function in another function.\n",
    "\n",
    "- Examples: like @staticmethod, @classmethod"
   ]
  },
  {
   "cell_type": "markdown",
   "id": "e3db9b8b",
   "metadata": {},
   "source": [
    "### Using @staticmethod Decorator\n",
    "\n",
    "- We can use any method a static method using this decorator\n",
    "\n",
    "- Static method remains same for all the objects\n",
    "\n",
    "- They cannot access or modify class state\n",
    "\n",
    "- Sometimes we dont need to use self parameter in methods\n",
    "\n",
    "- Without using @staticmethod, it will throw an error asking for an argument"
   ]
  },
  {
   "cell_type": "code",
   "execution_count": 249,
   "id": "0ee17b06",
   "metadata": {},
   "outputs": [
    {
     "name": "stdout",
     "output_type": "stream",
     "text": [
      "welcome user!\n",
      "welcome user! tony stark\n",
      "hello tony stark!\n"
     ]
    }
   ],
   "source": [
    "#this is a case of static method\n",
    "#these methods dont use self as parameter\n",
    "#they work on class level \n",
    "#static methods can use decorators like @staticmethod \n",
    "#decorators can covert a function into a static method\n",
    "\n",
    "\n",
    "class User2():\n",
    "\n",
    "    def __init__(self, name):\n",
    "        self.name = name \n",
    "\n",
    "    #to solve error coz by default it must contain self, so now we will use @staticmethod decorator\n",
    "    \n",
    "    @staticmethod #this is a decorator\n",
    "\n",
    "    def hello():\n",
    "        print(\"hello tony stark!\")\n",
    "\n",
    "    def welcome(self):\n",
    "        print(\"welcome user!\") \n",
    "        print(\"welcome user!\", self.name) \n",
    "\n",
    "u2 = User2(\"tony stark\") \n",
    "u2.welcome() \n",
    "u2.hello() #this will give error coz hello is a static method and we r calling it using obj\n"
   ]
  },
  {
   "cell_type": "markdown",
   "id": "0748518d",
   "metadata": {},
   "source": [
    "### Using @classmethod Decorator\n",
    "\n",
    "- A class method is bound to the class and receives class as a first implicit argument\n"
   ]
  },
  {
   "cell_type": "code",
   "execution_count": 250,
   "id": "e88b9527",
   "metadata": {},
   "outputs": [
    {
     "name": "stdout",
     "output_type": "stream",
     "text": [
      "sidraa goopie\n",
      "sidraa goopie\n"
     ]
    }
   ],
   "source": [
    "##accessing and changing class props without decorator\n",
    "\n",
    "class Person:\n",
    "    name = \"anonymous\"\n",
    "\n",
    "\n",
    "    def changeName(self, name):\n",
    "        # self.name = name #it is making a new obj instead of changing class name\n",
    "        Person.name = name\n",
    "\n",
    "\n",
    "p1 = Person() #after doing Person dot name, obj is also sidraa goopie\n",
    "p1.changeName (\"sidraa goopie\")\n",
    "\n",
    "print(p1.name)\n",
    "print(Person.name) #gives anonymous > but now it gives sidra goopie after doing Person.name = name"
   ]
  },
  {
   "cell_type": "code",
   "execution_count": 251,
   "id": "8e024c15",
   "metadata": {},
   "outputs": [
    {
     "name": "stdout",
     "output_type": "stream",
     "text": [
      "sidra coder\n"
     ]
    }
   ],
   "source": [
    "#accessing and changing class props with @classmethod decorator\n",
    "#here @classmethod will use first attribute as the class itself \n",
    "\n",
    "class Person2:\n",
    "    name = \"anonymous\"\n",
    "\n",
    "    @classmethod\n",
    "\n",
    "    def changeName(cls, name): #here cls is not self, but class itself\n",
    "        cls.name = name\n",
    "\n",
    "p2 = Person2()\n",
    "p2.changeName(\"sidra coder\")\n",
    "print(p2.name)"
   ]
  },
  {
   "cell_type": "markdown",
   "id": "51c2b9cf",
   "metadata": {},
   "source": [
    "### Using @property Decorator\n",
    "\n",
    "- We can use @property decorator on a class to use its methods as property\n",
    "\n"
   ]
  },
  {
   "cell_type": "code",
   "execution_count": 252,
   "id": "138a1668",
   "metadata": {},
   "outputs": [
    {
     "name": "stdout",
     "output_type": "stream",
     "text": [
      "98\n",
      "90.66666666666667%\n",
      "86\n",
      "90.66666666666667%\n",
      "75\n",
      "83.0%\n",
      "98\n",
      "90.66666666666667%\n",
      "32\n",
      "68.66666666666667%\n",
      "76\n",
      "83.33333333333333%\n"
     ]
    }
   ],
   "source": [
    "# #without using @property decorator\n",
    "\n",
    "class Student:\n",
    "    def __init__(self, phys, chem, math):\n",
    "        self.phy = phys\n",
    "        self.chem = chem\n",
    "        self.math = math\n",
    "        self.percentage = str((self.phy + self.chem + self.math)/3) + \"%\" #adding attr directly \n",
    "\n",
    "    def calculate_percentage(self):\n",
    "        self.percentage = str((self.phy + self.chem + self.math)/3) + \"%\"\n",
    "\n",
    "stu1 = Student(98, 92, 82) #pre-existing marks \n",
    "print(stu1.phy)\n",
    "print(stu1.percentage)\n",
    "\n",
    "stu1.phy = 86 #here the new marks are updated\n",
    "print(stu1.phy)\n",
    "print(stu1.percentage) #here the percentage is not updated\n",
    "\n",
    "#updating the phys marks again\n",
    "\n",
    "stu1.phy = 75\n",
    "print(stu1.phy) #here new marks are also being update\n",
    "stu1.calculate_percentage() #here new percentage is calculated after updating marks\n",
    "print(stu1.percentage)\n",
    "\n",
    "#now we want to add another attr percentage to this student class\n",
    "#now imagine: a teacher rechecks the papers again and wants to correct the numbers \n",
    "\n",
    "\n",
    "#we can do the same thing much efficiently by using @property decorator\n",
    "#it means if an attribute value depends on a function/method, we can use that func as a property\n",
    "\n",
    "class Student:\n",
    "    def __init__(self, phys, chem, math):\n",
    "        self.phy = phys\n",
    "        self.chem = chem\n",
    "        self.math = math\n",
    "      \n",
    "\n",
    "    @property\n",
    "    def percentage(self):\n",
    "        return str((self.phy + self.chem + self.math)/3) + \"%\"\n",
    "\n",
    "stu1 = Student(98, 92, 82) #pre-existing marks > 98\n",
    "print(stu1.phy)\n",
    "print(stu1.percentage)\n",
    "\n",
    "stu1.phy = 32 #new marks \n",
    "print(stu1.phy)\n",
    "print(stu1.percentage) #new percentage is automatically calculated\n",
    "\n",
    "stu1.phy = 76\n",
    "print(stu1.phy)\n",
    "print(stu1.percentage) #new percentage is automatically calculated again\n",
    "\n"
   ]
  },
  {
   "cell_type": "markdown",
   "id": "4fbab6aa",
   "metadata": {},
   "source": [
    "## Super Method In OOP\n",
    "\n",
    "- This method prints and accesses all the methods present in a parent class"
   ]
  },
  {
   "cell_type": "code",
   "execution_count": 253,
   "id": "d6ee16bb",
   "metadata": {},
   "outputs": [
    {
     "name": "stdout",
     "output_type": "stream",
     "text": [
      "hello! im class H\n",
      "hello! im class G\n",
      "hello! im class F\n"
     ]
    }
   ],
   "source": [
    "class F:  #grandparent class\n",
    "    def greet(self):\n",
    "        print(\"hello! im class F\")\n",
    "\n",
    "class G(F): #parent class \n",
    "     def greet(self):\n",
    "        print(\"hello! im class G\")\n",
    "        super().greet() #it is inheriting methods of class F which is grandparent \n",
    "\n",
    "class H(G): #child class\n",
    "     def greet(self):\n",
    "        print(\"hello! im class H\")\n",
    "        super().greet() #it is inheriting methods of class G which is parent class\n",
    "\n",
    "h1 = H()\n",
    "h1.greet()\n",
    "\n"
   ]
  },
  {
   "cell_type": "markdown",
   "id": "214f28d3",
   "metadata": {},
   "source": [
    "## 8. Pillars Of OOP In Python \n",
    "\n",
    "- Abstraction: Hiding the implementation details of a class and showing only essential features\n",
    "\n",
    "- Encapsulation: Wrapping data (attributes) and methods (functions) that operate on that data into a single unit (class) and controlling access to it.\n",
    "\n",
    "- Inheritance: When one child class derives the properties and methods of another parent class\n",
    "\n",
    "- Polymorphism: When the same operator is allowed to have different meanings according to context\n",
    "\n",
    "- Example Of Polymorphism: Operator Overloading"
   ]
  },
  {
   "cell_type": "markdown",
   "id": "dd284321",
   "metadata": {},
   "source": [
    "### Types Of Inheritance In OOP\n",
    "\n",
    "- Single: It has a parent class and a child class\n",
    "\n",
    "- Multi-Level: It has a grandparent, a parent, and a child class\n",
    "\n",
    "- Multiple: It has two parents, and one child class"
   ]
  },
  {
   "cell_type": "code",
   "execution_count": 254,
   "id": "e56ebaa7",
   "metadata": {},
   "outputs": [
    {
     "name": "stdout",
     "output_type": "stream",
     "text": [
      "car started....\n",
      "welcome to class P!\n",
      "welcome to class X!\n",
      "Welcome to class Y!\n",
      "Welcome to class Z!\n",
      "welcome to class A!\n",
      "welcome to class B!\n",
      "welcome to class C!\n",
      "3\n",
      "<class 'int'>\n",
      "hello world\n",
      "<class 'str'>\n",
      "[1, 2, 3, 4]\n",
      "<class 'list'>\n",
      "1 i +  3 j\n",
      "<class '__main__.Complex'>\n",
      "4 i +  6 j\n",
      "<class '__main__.Complex'>\n",
      "5 i +  9 j\n"
     ]
    }
   ],
   "source": [
    "#this is abstraction where we hid the details and only showing essential features\n",
    "\n",
    "class Car:\n",
    "\n",
    "    def __init__(self):\n",
    "        self.acc = False\n",
    "        self.brk = False\n",
    "        self.clutch = False\n",
    "\n",
    "    def start(self):\n",
    "        self.clutch = True\n",
    "        self.acc = True\n",
    "        print(\"car started....\")\n",
    "\n",
    "car1 = Car()\n",
    "car1.start()\n",
    "\n",
    "\n",
    "#this is inheritance where one class derives properties and methods of another class\n",
    "#this is single inheritance \n",
    "\n",
    "class P: #parent class\n",
    "    varP = \"welcome to class P!\"\n",
    "\n",
    "class Q(P): #child class inheriting properties of class P\n",
    "    varQ = \"welcome to class Q!\"\n",
    "\n",
    "\n",
    "q1 = Q()\n",
    "print(q1.varP)\n",
    "\n",
    "#this is multi-level inheritance where last child class inherits props of both upper classes\n",
    "#it can have 1 parent and 2 children classes\n",
    "\n",
    "class X: #this grandparent class\n",
    "    varX = \"welcome to class X!\"\n",
    "\n",
    "class Y(X): #parent class inheriting from X\n",
    "    varY = \"Welcome to class Y!\"\n",
    "\n",
    "class Z(Y): #child class inheriting from Y \n",
    "    varZ = \"Welcome to class Z!\"\n",
    "\n",
    "z1 = Z()\n",
    "print(z1.varX)\n",
    "print(z1.varY)\n",
    "print(z1.varZ)\n",
    "\n",
    "#this is multiple inheritance takes place\n",
    "#it has 2 parents and 1 child class\n",
    "\n",
    "class A: #this is 1 parent class\n",
    "    varA = \"welcome to class A!\"\n",
    "\n",
    "class B: #this is 2 parent class\n",
    "    varB = \"welcome to class B!\"\n",
    "\n",
    "class C(A,B): #this is child class inheriting from both A and B using a comma\n",
    "    varC = \"welcome to class C!\"\n",
    "\n",
    "c1 = C()\n",
    "\n",
    "print(c1.varA)\n",
    "print(c1.varB)\n",
    "print(c1.varC) #here it has inherited properties of class A and B \n",
    "\n",
    "#this is polymorphism where same operator has different meanings according to context\n",
    "#this is perfect example of operator overloading \n",
    "\n",
    "print(1+2) #it is possible \n",
    "print(type(1))\n",
    "\n",
    "print(\"hello\" + \" \" + \"world\") #it is also possible (concatenation)\n",
    "print(type(\"hello\"))\n",
    "\n",
    "print([1,2] + [3,4]) #it is also possible (merging)\n",
    "print(type([1,2]))\n",
    "\n",
    "class Complex:\n",
    "    def __init__(self, real, img):\n",
    "        self.real = real\n",
    "        self.img = img\n",
    "\n",
    "    def showNumb(self):\n",
    "        print(self.real, \"i + \", self.img, \"j\")\n",
    "\n",
    "    def __add__(self, numb2):\n",
    "        newReal = self.real + numb2.real\n",
    "        newImg = self.img + numb2.img\n",
    "        return Complex(newReal, newImg)\n",
    "\n",
    "numb1 = Complex(1,3)\n",
    "numb1.showNumb()\n",
    "print((type(numb1)))\n",
    "\n",
    "\n",
    "numb2 = Complex(4,6)\n",
    "numb2.showNumb()\n",
    "print((type(numb2)))\n",
    "\n",
    "numb3 = numb1 + numb2 #this wasnt possible without dunder add method, it gives error coz + logic wasnt defined\n",
    "numb3.showNumb()\n",
    "\n",
    "#now we want to add these 2 complex numbers using + operator\n",
    "#for this we will use Dunder functions with double underscores\n",
    "\n",
    "# __add__\n",
    "# __sub__\n",
    "# __mul__\n",
    "# __truediv__\n",
    "# __mod__"
   ]
  },
  {
   "cell_type": "markdown",
   "id": "231e9243",
   "metadata": {},
   "source": [
    "## 9. Using del keyword In OOP\n",
    "\n",
    "- We can use del to delete properties of an obj or a whole obj itself!"
   ]
  },
  {
   "cell_type": "code",
   "execution_count": 255,
   "id": "d5c81781",
   "metadata": {},
   "outputs": [
    {
     "name": "stdout",
     "output_type": "stream",
     "text": [
      "sidraa\n"
     ]
    }
   ],
   "source": [
    "class Student:\n",
    "    def __init__(self, name):\n",
    "        self.name = name\n",
    "\n",
    "s1 = Student(\"sidraa\")\n",
    "print(s1.name) #here it wont give error coz obj is not deleted\n",
    "\n",
    "# del s1\n",
    "# print(s1) #here it will give error coz we deleted the obj s1\n",
    "\n"
   ]
  },
  {
   "cell_type": "markdown",
   "id": "286d4589",
   "metadata": {},
   "source": [
    "## Mini Exercise OOP "
   ]
  },
  {
   "cell_type": "code",
   "execution_count": 256,
   "id": "49f221fc",
   "metadata": {},
   "outputs": [
    {
     "name": "stdout",
     "output_type": "stream",
     "text": [
      "1386.0\n",
      "132.0\n",
      "role = engineer\n",
      "department = IT\n",
      "salary = 7000\n",
      "laptop $1500\n",
      "iPad $1200\n"
     ]
    }
   ],
   "source": [
    "#creating a class for Circle , area and perimeter that calculate    \n",
    "\n",
    "class Circle:\n",
    "    def __init__(self,radius):\n",
    "        self.radius = radius\n",
    "\n",
    "    def area(self):\n",
    "        return 22/7 * self.radius ** 2\n",
    "    \n",
    "    def perimeter(self):\n",
    "        return 2 * 22/7 * self.radius\n",
    "    \n",
    "c1 = Circle(21)\n",
    "print(c1.area())\n",
    "print(c1.perimeter())\n",
    "\n",
    "\n",
    "# a class with diff props and creating a new class that inherits props from employee class\n",
    "\n",
    "class Employee:\n",
    "    def __init__(self, role, department, salary):\n",
    "        self.role = role\n",
    "        self.department = department\n",
    "        self.salary = salary\n",
    "\n",
    "    def showDetails(self):\n",
    "        print(\"role =\", self.role)\n",
    "        print(\"department =\", self.department)\n",
    "        print(\"salary =\", self.salary)\n",
    "\n",
    "class Engineer(Employee):\n",
    "    def __init__(self,name, age):\n",
    "        self.name = name\n",
    "        self.age = age\n",
    "        super().__init__(\"engineer\", \"IT\", \"7000\")\n",
    "\n",
    "engg1 = Engineer(\"elon musk\", \"40\")\n",
    "engg1.showDetails()\n",
    "\n",
    "\n",
    "#create a class order that stores items and their prices\n",
    "#use a dunder function __gt__ that shows an order is only bigger than other if price1 > price1\n",
    "class Order:\n",
    "    def __init__(self, items, price):\n",
    "        self.items = items\n",
    "        self.price = price\n",
    "    \n",
    "    def __gt__(self, order2): #without this it will give unsupported operator error\n",
    "        return self.price > order2.price\n",
    "\n",
    "o1 = Order(\"laptop\", \"$1500\") #it is giving o2 coz it satisfies the condition in dunder function\n",
    "print(o1.items, o1.price)\n",
    "\n",
    "o2 = Order(\"iPad\", \"$1200\") \n",
    "print(o2.items, o2.price)"
   ]
  },
  {
   "cell_type": "markdown",
   "id": "409d133a",
   "metadata": {},
   "source": [
    "## 1. Mini Project (Account System)"
   ]
  },
  {
   "cell_type": "code",
   "execution_count": 257,
   "id": "f12db864",
   "metadata": {},
   "outputs": [
    {
     "name": "stdout",
     "output_type": "stream",
     "text": [
      "10000 12345\n",
      "Euros 1000 was debited!\n",
      "total balance =  9000\n",
      "Euros 500 was credited!\n",
      "total balance =  9500\n",
      "Euros 4000 was debited!\n",
      "total balance =  5500\n",
      "Euros 298 was credited!\n",
      "total balance =  5798\n",
      "Euros 100 was debited!\n",
      "total balance =  5698\n",
      "Euros 1000 was credited!\n",
      "total balance =  6698\n"
     ]
    }
   ],
   "source": [
    "class Account: \n",
    "    def __init__(self, bal, acc):\n",
    "        self.balance = bal\n",
    "        self.account_no = acc\n",
    "\n",
    "    def debit(self, amount):\n",
    "        self.balance -= amount\n",
    "        print(\"Euros\", amount, \"was debited!\")\n",
    "        print(\"total balance = \", self.total_balance())\n",
    "\n",
    "    \n",
    "    def credit(self, amount):\n",
    "        self.balance += amount\n",
    "        print(\"Euros\", amount, \"was credited!\")\n",
    "        print(\"total balance = \", self.total_balance())\n",
    "\n",
    "   \n",
    "    def total_balance(self):\n",
    "        return self.balance\n",
    "\n",
    "#this is the pre-exisiting balance\n",
    "acc1 = Account(10000, \"12345\")\n",
    "\n",
    "print(acc1.balance, acc1.account_no)\n",
    "\n",
    "acc1.debit(1000)\n",
    "acc1.credit(500)\n",
    "\n",
    "acc1.debit(4000)\n",
    "acc1.credit(298)\n",
    "\n",
    "\n",
    "acc1.debit(100)\n",
    "acc1.credit(1000)\n"
   ]
  },
  {
   "cell_type": "markdown",
   "id": "2d0dbfa9",
   "metadata": {},
   "source": [
    "## 2. Mini Project (Game: Guess The Number?)"
   ]
  },
  {
   "cell_type": "code",
   "execution_count": 258,
   "id": "0da1808a",
   "metadata": {},
   "outputs": [],
   "source": [
    "# #this built-in random module helps us generate random things\n",
    "\n",
    "# import random \n",
    "\n",
    "# #it takes two parameters, min and max \n",
    "# #now with every run, it will give a random number between 1 to 100\n",
    "\n",
    "# target = random.randint(1, 100)\n",
    "\n",
    "# while True:\n",
    "#     # userInput = (input(\"guess the number? or (Type Q to Quit\"))\n",
    "    \n",
    "    \n",
    "#     # if userInput.upper() == \"Q\":  # checks before converting\n",
    "#     #     break\n",
    "\n",
    "#     # userChoice = int(userInput)\n",
    "\n",
    "#     # if(userChoice == target):\n",
    "#     #     print(\"Success! You guessed Correctly!\")\n",
    "#     #     break\n",
    "#     # elif(userChoice<target):\n",
    "#     #     print(\"your number is small, take a bigger guess....\")\n",
    "#     # else:\n",
    "#     #     print(\"your number was too big, take a smaller guess...\")\n",
    "\n",
    "# # print (----\"GAME OVER!!!\"----)"
   ]
  },
  {
   "cell_type": "markdown",
   "id": "63dad3fc",
   "metadata": {},
   "source": [
    "## 3. Mini Project (Random Password Generator)"
   ]
  },
  {
   "cell_type": "code",
   "execution_count": 259,
   "id": "354b0ee0",
   "metadata": {},
   "outputs": [
    {
     "name": "stdout",
     "output_type": "stream",
     "text": [
      "your random password is: |['7N7US]CLTWX&\n"
     ]
    }
   ],
   "source": [
    "import random\n",
    "import string  #it is collection of string constants\n",
    "\n",
    "#american standard code for information interchange\n",
    "\n",
    "pass_len = 15\n",
    "\n",
    "charVals = string.punctuation + string.ascii_uppercase + string.digits \n",
    "\n",
    "password = \"\"\n",
    "\n",
    "for i in range(pass_len):\n",
    "\n",
    "   password += (random.choice(charVals))\n",
    "\n",
    "print(\"your random password is:\", password)\n",
    "\n"
   ]
  }
 ],
 "metadata": {
  "kernelspec": {
   "display_name": "Python 3",
   "language": "python",
   "name": "python3"
  },
  "language_info": {
   "codemirror_mode": {
    "name": "ipython",
    "version": 3
   },
   "file_extension": ".py",
   "mimetype": "text/x-python",
   "name": "python",
   "nbconvert_exporter": "python",
   "pygments_lexer": "ipython3",
   "version": "3.14.0"
  }
 },
 "nbformat": 4,
 "nbformat_minor": 5
}
