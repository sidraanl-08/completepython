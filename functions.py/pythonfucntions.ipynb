{
 "cells": [
  {
   "cell_type": "markdown",
   "id": "152a4248",
   "metadata": {},
   "source": [
    "# Python Functions For Beginners\n",
    "\n",
    "## Understanding Python Functions\n",
    "\n",
    "## What Are Functions In Python?\n",
    "\n",
    "Functions are group of statements performing a specifc task\n",
    "\n",
    "- They also help us avoid repetition in our python code like loops\n",
    "- We use def keyword to start a function\n",
    "- Make sure to call a function to get output\n",
    "\n",
    "## Difference Between Functions And Loops\n",
    "\n",
    "- In loops , we specifiy a condition \n",
    "- But in funcs, we dont have to specifiy a condition"
   ]
  },
  {
   "cell_type": "markdown",
   "id": "fe390796",
   "metadata": {},
   "source": [
    "## 1. Syntax Of Python Function \n",
    "\n",
    "- we must define/declare a func with a def keyword giving parameters\n",
    "\n",
    "- next we use the function name with ():\n",
    "\n",
    "- next we write the code we want to work with inside the function \n",
    "\n",
    "- at the end, we must call the function giving arguments \n",
    "\n",
    "- arguments replace parameters in output "
   ]
  },
  {
   "cell_type": "code",
   "execution_count": 76,
   "id": "04fad0e9",
   "metadata": {},
   "outputs": [
    {
     "name": "stdout",
     "output_type": "stream",
     "text": [
      "3.0\n",
      "30.0\n",
      "108.5\n",
      "hi sidra\n",
      "hi sidra\n",
      "None\n",
      "None\n"
     ]
    },
    {
     "data": {
      "text/plain": [
       "20.0"
      ]
     },
     "execution_count": 76,
     "metadata": {},
     "output_type": "execute_result"
    }
   ],
   "source": [
    "#1. doing this will be non efficient and tedious and redundant which is a bad practice\n",
    "\n",
    "a = 1\n",
    "b = 2\n",
    "c = 3\n",
    "\n",
    "average = (a+b+c)/2\n",
    "print(average)\n",
    "\n",
    "a = 10\n",
    "b = 20\n",
    "c = 30\n",
    "\n",
    "average = (a+b+c)/2\n",
    "print(average)\n",
    "\n",
    "#2. we can put this entire code block in a function\n",
    "\n",
    "def avg(): #this means we are defining/declare a function\n",
    "    a = 46\n",
    "    b = 78\n",
    "    c = 93\n",
    "\n",
    "    average = (a+b+c)/2\n",
    "    print(average)\n",
    "\n",
    "avg() #this means we r calling the avg function to give output\n",
    "\n",
    "#3. here we can make our code more smaller with return keyword\n",
    "\n",
    "def avg2(x,y,z): #this means we are defining/declare a function with parameters x,y,z\n",
    "\n",
    "    return x+y+z\n",
    "\n",
    "avg2(50, 10, 20) #here we are passing arguments for the parameters above \n",
    "\n",
    "\n",
    "#4. we can print a string also without a parameter or a return \n",
    "\n",
    "def greet():\n",
    "    print(\"hi sidra\")\n",
    "\n",
    "greet()\n",
    "\n",
    "# 5. here if we have a function without an output then it will give None\n",
    "\n",
    "output = print(greet())\n",
    "print(output)\n",
    "\n",
    "# 6. find avg of 3 numbers again \n",
    "\n",
    "def avgnum(num1, num2, num3):\n",
    "    return (num1+num2+num3)/3\n",
    "\n",
    "avgnum(10, 20, 30)"
   ]
  },
  {
   "cell_type": "markdown",
   "id": "0493dfe8",
   "metadata": {},
   "source": [
    "## 2. Types Of Functions\n",
    "\n",
    "- Functions can be of 2 types\n",
    "- Built-in funcs are already present in python eg: print(), range(), input(), len()\n",
    "- Custom/User-defined funcs  are those that we make ourselves"
   ]
  },
  {
   "cell_type": "code",
   "execution_count": 77,
   "id": "57c73e9b",
   "metadata": {},
   "outputs": [
    {
     "name": "stdout",
     "output_type": "stream",
     "text": [
      "20\n"
     ]
    },
    {
     "data": {
      "text/plain": [
       "'goodmorning, ur late to study sidra'"
      ]
     },
     "execution_count": 77,
     "metadata": {},
     "output_type": "execute_result"
    }
   ],
   "source": [
    "#1. for instance len() is a builtin func\n",
    "\n",
    "string = \"python is lovely omg\"\n",
    "print(len(string))\n",
    "\n",
    "#2. def greeting() is a userdefined/custom func\n",
    "\n",
    "def greeting(name):\n",
    "    return(\"goodmorning, ur late to study\" + name)\n",
    "\n",
    "greeting(\" sidra\")"
   ]
  },
  {
   "cell_type": "markdown",
   "id": "cc7ba23a",
   "metadata": {},
   "source": [
    "## 3. Functions With Parameters & Arguments"
   ]
  },
  {
   "cell_type": "code",
   "execution_count": 78,
   "id": "02953da3",
   "metadata": {},
   "outputs": [
    {
     "name": "stdout",
     "output_type": "stream",
     "text": [
      "hi, goodday, sidd thankyou!\n",
      "hi, goodday, mama thankyou!\n",
      "hi, goodday, zoe thankyou!\n",
      "hi, goodday, nosh thankie!\n",
      "hi, goodday, annie thnxx!\n",
      "python is tired now\n",
      "hi, goodday, gojo thankss from python!\n",
      "sidra python\n",
      "sidra python\n"
     ]
    }
   ],
   "source": [
    "#1. we pass an parameter (\"name\") (variable) to a func\n",
    "#2. we write the code inside the function that we want to print\n",
    "#3. while calling the function, we use an argument(\"sidd\") to replace the parameter above\n",
    "#4. multiple parameters are also possible\n",
    "\n",
    "def goodday(name, ending): #declare > parameter\n",
    "    print(\"hi, goodday, \" + name + ending)\n",
    "    return \"python is tired now\" #return gives a value to a variable \n",
    "    \n",
    "\n",
    "goodday(\"sidd\", \" thankyou!\") #call > argument pr in other words value of the variable\n",
    "goodday(\"mama\" , \" thankyou!\")\n",
    "goodday(\"zoe\" , \" thankyou!\")\n",
    "goodday(\"nosh\", \" thankie!\")\n",
    "\n",
    "#5. return will give \"python is tired now\" to variable a which is goodday, annie thnkxx!\n",
    "\n",
    "a = goodday(\"annie\", \" thnxx!\")\n",
    "print(a)\n",
    "\n",
    "#6. we can make a parameter's value default\n",
    "#7. so even if we dont pass an argument while calling\n",
    "#9. python will use the default from above in the output \n",
    "\n",
    "def goodday(name, ending = \"thankss from python!\"): \n",
    "    print(\"hi, goodday, \" + name + ending)\n",
    "\n",
    "goodday(\"gojo \")\n",
    "\n",
    "\n",
    "print(\"sidra\", \"python\") #sep is a built in that adds sapce between strs automatically \n",
    "print(\"sidra\", end = \" \") #now end = \" \" (means\\n) will print both again on same line and will add space as well\n",
    "print(\"python\")"
   ]
  },
  {
   "cell_type": "markdown",
   "id": "2f523e3f",
   "metadata": {},
   "source": [
    "## 4. Recursion In Function\n",
    "\n",
    "- Recursion is a function that calls itself\n",
    "\n",
    "- Recursion and loops are interrelated we can use both for same thing\n",
    "\n",
    "- But in general, loops are preferred\n",
    "\n",
    "- Recursion happens where there is a recurrent relation like in the concept of factorials"
   ]
  },
  {
   "cell_type": "code",
   "execution_count": 79,
   "id": "66886ae2",
   "metadata": {},
   "outputs": [
    {
     "name": "stdout",
     "output_type": "stream",
     "text": [
      "120\n",
      "6\n",
      "720\n",
      "24\n",
      "5\n",
      "4\n",
      "3\n",
      "2\n",
      "1\n",
      "0\n"
     ]
    }
   ],
   "source": [
    "'''\n",
    "factorial(0) = 1\n",
    "factorial(1) = 1\n",
    "factorial(2) = 2 X 1\n",
    "factorial(3) = 3 X 2 X 1\n",
    "factorial(4) = 4 X 3 X 2 1\n",
    "factorial(5) = 5 X 4 X 3 X 2 X 1\n",
    "\n",
    "factorial(n) n * factorial(n-1)\n",
    "\n",
    "'''\n",
    "\n",
    "def factorial(n):\n",
    "    if (n==0 or n==1):\n",
    "     return 1\n",
    "    return(n*factorial(n-1))\n",
    "\n",
    "print(factorial(5))\n",
    "print(factorial(3))\n",
    "print(factorial(6))\n",
    "print(factorial(4))\n",
    "\n",
    "\n",
    "#1. using recursion to print numbers 5,4,3,2,1\n",
    "#2. first we must check what work should function do \n",
    "#3. recursive functions must be stopped with a condition otherwise they keep running the recursion\n",
    "\n",
    "\n",
    "def show(n):\n",
    "   if(n==-1): #this is called base case condition tells the function to stop once it reaches n == 0\n",
    "      return\n",
    "   print(n)\n",
    "   show(n-1)\n",
    "\n",
    "show(5)"
   ]
  },
  {
   "cell_type": "markdown",
   "id": "da44457d",
   "metadata": {},
   "source": [
    "## 4. Call Stack In Recursion \n",
    "\n",
    "| Call Stack Level | Function Call | Action        | Output Printed |\n",
    "|-----------------|---------------|---------------|----------------|\n",
    "| 1               | show(5)       | print(5)      | 5              |\n",
    "| 2               | show(4)       | print(4)      | 4              |\n",
    "| 3               | show(3)       | print(3)      | 3              |\n",
    "| 4               | show(2)       | print(2)      | 2              |\n",
    "| 5               | show(1)       | print(1)      | 1              |\n",
    "| 6               | show(0)       | print(0)      | 0              |\n",
    "| 7               | show(-1)      | Base case → return | —          |\n"
   ]
  },
  {
   "cell_type": "markdown",
   "id": "569ae60a",
   "metadata": {},
   "source": [
    "# 1. Mini Exercise For Python Functions"
   ]
  },
  {
   "cell_type": "code",
   "execution_count": 80,
   "id": "35ad9dab",
   "metadata": {},
   "outputs": [
    {
     "name": "stdout",
     "output_type": "stream",
     "text": [
      "96\n",
      "344556\n",
      "50\n",
      "40°F is 4.44°C\n",
      "1\n",
      "2\n",
      "3 4 "
     ]
    }
   ],
   "source": [
    "#write a func to find the greatest number of 3 numbers\n",
    "\n",
    "def greatest(a,b,c):\n",
    "    if(a>b and a>c):\n",
    "        return a\n",
    "    elif(b>a and b>c):\n",
    "        return b\n",
    "    elif(c>b and c>a):\n",
    "        return c\n",
    "  \n",
    "a = 1\n",
    "b = 45\n",
    "c = 96\n",
    "\n",
    "print(greatest(a,b,c))\n",
    "\n",
    "a = 25\n",
    "b = 344556\n",
    "c = 6768\n",
    "\n",
    "print(greatest(a,b,c))\n",
    "\n",
    "a = 50\n",
    "b = 24\n",
    "c = 12\n",
    "\n",
    "print(greatest(a,b,c))\n",
    "\n",
    "#make a func to convert celcius to fahrenheit \n",
    "\n",
    "# c/5 = (f-32)/9\n",
    "\n",
    "#so c will be c = 5*(f-32)/9\n",
    "\n",
    "def conversion(f):\n",
    "    return 5*(f-32)/9\n",
    "\n",
    "f = 40\n",
    "c = conversion(f)\n",
    "print(f\"{40}°F is {c:.2f}°C\")\n",
    "\n",
    "#how does print() prints a new line at the end?\n",
    "\n",
    "x = 1\n",
    "y = 2\n",
    "z = 3\n",
    "i = 4\n",
    "\n",
    "print(x)\n",
    "print(y)\n",
    "print(z, end = \" \") #there is no line between 3 and 4\n",
    "print(i, end = \" \")\n"
   ]
  },
  {
   "cell_type": "markdown",
   "id": "484b72a9",
   "metadata": {},
   "source": [
    "## 2. Mini Exercise Python Functions"
   ]
  },
  {
   "cell_type": "code",
   "execution_count": 81,
   "id": "2483fd27",
   "metadata": {},
   "outputs": [
    {
     "name": "stdout",
     "output_type": "stream",
     "text": [
      "3\n",
      "7\n",
      "Orchid Sunflower\n"
     ]
    }
   ],
   "source": [
    "# 1. write a func to print list of an element, list is a parameter\n",
    "\n",
    "heroes = [\"thor\", \"ironman\", \"hulk\"]\n",
    "\n",
    "def length(list):\n",
    "    print(len(list))\n",
    "\n",
    "print(len(heroes))\n",
    "\n",
    "\n",
    "flowers = [\"Rose\", \"Tulip\", \"Sunflower\", \"Lily\", \"Daffodil\", \"Orchid\", \"Marigold\"]\n",
    "\n",
    "def length2(list):\n",
    "    print(len(list))\n",
    "\n",
    "#using end = \" \" to get output on same line\n",
    "\n",
    "print(len(flowers))\n",
    "print(flowers[5], end = \" \")\n",
    "print(flowers[2])\n"
   ]
  }
 ],
 "metadata": {
  "kernelspec": {
   "display_name": "Python 3",
   "language": "python",
   "name": "python3"
  },
  "language_info": {
   "codemirror_mode": {
    "name": "ipython",
    "version": 3
   },
   "file_extension": ".py",
   "mimetype": "text/x-python",
   "name": "python",
   "nbconvert_exporter": "python",
   "pygments_lexer": "ipython3",
   "version": "3.14.0"
  }
 },
 "nbformat": 4,
 "nbformat_minor": 5
}
