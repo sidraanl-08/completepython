{
 "cells": [
  {
   "cell_type": "markdown",
   "id": "caa3e212",
   "metadata": {},
   "source": [
    "# Python Dictionaries For Beginners \n",
    "\n",
    "## What Are Python Dictionaries?\n",
    "\n",
    "Dicts are used to store data in key:value pairs in python\n",
    "\n",
    "- They are unordered coz they dont have indices like strings, lists, and tuples, mutable, and dont allow duplicate keys\n",
    "- We use curly braces {} to make dicts unlike tuples that use () and lists that use [] in python\n",
    "- key:value pairs in dicts are always separated by commas"
   ]
  },
  {
   "cell_type": "code",
   "execution_count": 94,
   "id": "08f598c0",
   "metadata": {},
   "outputs": [
    {
     "name": "stdout",
     "output_type": "stream",
     "text": [
      "{'key': 'value', 'name': 'sid', 'age': 24, 'marks': 93.28, 'is_student': True}\n",
      "{'name': 'sidraa', 'subjects': ['maths', 'computing', 'ML'], 'topicoftoday': 'python'}\n",
      "Age\n",
      "sidraa\n",
      "{'name': 'ben', 12: 'Age', 54.34: 'marks'}\n",
      "ben\n",
      "{'name': 'ben', 12: 'Age', 54.34: 'marks', 'newmember': 'danny'}\n",
      "{'name': 'danny', 'age': 24, 'city': 'amsterdam', 'marks': 92, 'linkedin': 'has no linkedin'}\n",
      "{'name': 'danny', 'age': 30, 'city': 'amsterdam', 'marks': 92, 'linkedin': 'has no linkedin'}\n"
     ]
    }
   ],
   "source": [
    "#dicts can contain all datatypes as values\n",
    "\n",
    "info  = {\n",
    "    \"key\" : \"value\",\n",
    "    \"name\" : \"sid\",\n",
    "    \"age\" : 24,\n",
    "    \"marks\" : 93.28,\n",
    "    \"is_student\" : True\n",
    "}\n",
    "\n",
    "print(info)\n",
    "\n",
    "#we can also store lists and tuples in a dict as values\n",
    "\n",
    "info = {\n",
    "    \"name\" : \"sidraa\",\n",
    "    \"subjects\" : [\"maths\", \"computing\", \"ML\"],\n",
    "    \"topicoftoday\" : (\"python\")\n",
    "\n",
    "}\n",
    "\n",
    "print(info)\n",
    "\n",
    "#we cannot store lists and tuples as keys in a dict \n",
    "#we can make a key as an int or float as well\n",
    "#mostly we use only \"strings\" as keys in our dicts\n",
    "\n",
    "info = {\n",
    "    \"name\" : \"sidraa\",\n",
    "    12 : \"Age\",\n",
    "    54.34 : \"marks\"\n",
    "\n",
    "}\n",
    "\n",
    "print(info[12])\n",
    "print(info[\"name\"])\n",
    "\n",
    "#we can also change/update a key in a dict\n",
    "\n",
    "info[\"name\"] = \"ben\"\n",
    "\n",
    "print(info) #this gives the whole list\n",
    "\n",
    "print(info[\"name\"]) #this gives only name key\n",
    "\n",
    "info[\"newmember\"] = \"danny\" #we can also add new elements to dicts like this\n",
    "print(info)\n",
    "\n",
    "#general overview of basic dictionaries \n",
    "\n",
    "person = {\"name\" : \"danny\", \"age\" : 24, \"city\": \"amsterdam\", \"marks\" : 92}\n",
    "person[\"linkedin\"] = \"has no linkedin\"\n",
    "print(person)\n",
    "\n",
    "person[\"age\"] = 30\n",
    "print(person)"
   ]
  },
  {
   "cell_type": "code",
   "execution_count": 95,
   "id": "a1d5d675",
   "metadata": {},
   "outputs": [
    {
     "name": "stdout",
     "output_type": "stream",
     "text": [
      "iceberg alot\n",
      "{'name': 'iceberg', 'color': 'green', 'taste': 'yummy', 'nutritional': 'alot', 'price': 2.45}\n",
      "{'name': 'iceberg', 'color': 'green and white', 'taste': 'yummy', 'nutritional': 'alot', 'price': 2.45}\n",
      "no idea\n",
      "kiwi\n"
     ]
    }
   ],
   "source": [
    "veg = {\"name\" : \"iceberg\" , \"color\" : \"green\", \"taste\" : \"yummy\", \"nutritional\": \"alot\"}\n",
    "print(veg[\"name\"], veg[\"nutritional\"])\n",
    "\n",
    "veg[\"price\"] = 2.45\n",
    "print(veg)\n",
    "\n",
    "veg[\"color\"] = \"green and white\"\n",
    "print(veg)\n",
    "\n",
    "fru = {\"name\" : \"kiwi\", \"origin\": \"no idea\"}\n",
    "print(fru.get(\"origin\"))\n",
    "\n",
    "print(fru.pop(\"name\"))\n"
   ]
  },
  {
   "cell_type": "markdown",
   "id": "d0070bc7",
   "metadata": {},
   "source": [
    "## 1. Null Dictionaries\n",
    "\n",
    "- It is possible to make null dictionaries with empty curly braces\n",
    "- Null dictionaries are useful when we want to add key:value pairs later in them in our program"
   ]
  },
  {
   "cell_type": "code",
   "execution_count": 96,
   "id": "41297582",
   "metadata": {},
   "outputs": [
    {
     "name": "stdout",
     "output_type": "stream",
     "text": [
      "{}\n",
      "{'name': 'siddie'}\n"
     ]
    }
   ],
   "source": [
    "null_dict = {}\n",
    "print(null_dict)\n",
    "\n",
    "#here we assigned a key and a value to an empty dict\n",
    "\n",
    "null_dict[\"name\"] = \"siddie\"\n",
    "print(null_dict)\n"
   ]
  },
  {
   "cell_type": "markdown",
   "id": "baccd703",
   "metadata": {},
   "source": [
    "## 2. Nested Dictionaries \n",
    "\n",
    "- Dictionaries can have subdictionaries in them "
   ]
  },
  {
   "cell_type": "code",
   "execution_count": 97,
   "id": "f423d247",
   "metadata": {},
   "outputs": [
    {
     "name": "stdout",
     "output_type": "stream",
     "text": [
      "{'name': 'sidd', 'subjects': {'maths': 95, 'AI': 96, 'ML': 94}}\n",
      "{'maths': 95, 'AI': 96, 'ML': 94}\n",
      "96\n"
     ]
    }
   ],
   "source": [
    "student = {\n",
    "    \"name\" : \"sidd\",\n",
    "    \"subjects\" : {\n",
    "        \"maths\" : 95,\n",
    "        \"AI\" : 96,\n",
    "        \"ML\" : 94\n",
    "    }\n",
    "}\n",
    "\n",
    "print(student)\n",
    "\n",
    "#we can also access nested lists like this \n",
    "\n",
    "print(student[\"subjects\"])\n",
    "\n",
    "#we can also access keys inside the nested list\n",
    "\n",
    "print(student[\"subjects\"][\"AI\"])"
   ]
  },
  {
   "cell_type": "markdown",
   "id": "c908c79a",
   "metadata": {},
   "source": [
    "## 3. Python Dictionary Methods\n",
    "\n",
    "- dict.keys() will give all the keys\n",
    "\n",
    "- dict.values() will give all the values \n",
    "\n",
    "- dict.items() will give all the key:values pairs but as tuples\n",
    "\n",
    "- dict.get() will return a key according to the passed argument\n",
    "\n",
    "- dict.update will add specified items to the dictionary\n"
   ]
  },
  {
   "cell_type": "code",
   "execution_count": 98,
   "id": "5a784cfa",
   "metadata": {},
   "outputs": [
    {
     "name": "stdout",
     "output_type": "stream",
     "text": [
      "dict_keys(['name', 'price', 'weight'])\n",
      "['name', 'price', 'weight']\n",
      "3\n",
      "dict_values(['guava', 10.5, '1 kilos'])\n",
      "dict_items([('name', 'guava'), ('price', 10.5), ('weight', '1 kilos')])\n",
      "[('name', 'guava'), ('price', 10.5), ('weight', '1 kilos')]\n",
      "guava\n",
      "guava\n",
      "{'name': 'guava', 'price': 10.5, 'weight': '1 kilos', 'availability': 'available in the store'}\n"
     ]
    }
   ],
   "source": [
    "#dot keys will return keys only that are outer, means no nested keys\n",
    "\n",
    "fruit = {\n",
    "    \"name\" : \"guava\",\n",
    "    \"price\" : 10.50,\n",
    "    \"weight\" : \"1 kilos\"\n",
    "}\n",
    "\n",
    "print((fruit.keys()))\n",
    "\n",
    "#we can also type cast the output as lists \n",
    "\n",
    "print(list(fruit.keys()))\n",
    "\n",
    "# we can also find total number of keys using len()\n",
    "\n",
    "print(len(list(fruit.keys())))\n",
    "\n",
    "fruit = {\n",
    "    \"name\" : \"guava\",\n",
    "    \"price\" : 10.50,\n",
    "    \"weight\" : \"1 kilos\"\n",
    "}\n",
    "\n",
    "# dot values will give only values inside a dict \n",
    "\n",
    "print((fruit.values()))\n",
    "\n",
    "#dot items will give key:value pairs but as tuples\n",
    "\n",
    "print(fruit.items())\n",
    "\n",
    "#we can also use type casting to generate the same result but as lists\n",
    "\n",
    "print(list(fruit.items()))\n",
    "\n",
    "#dot get will give only the key that has been passed with both option\n",
    "#to do this, we always prefer using dot get option to avoid problematic errors\n",
    "\n",
    "print(fruit[\"name\"])\n",
    "\n",
    "print(fruit.get(\"name\"))\n",
    "\n",
    "#dot update will add a new key : value pair\n",
    "\n",
    "fruit.update({\"availability\" : \"available in the store\"})\n",
    "print(fruit)"
   ]
  },
  {
   "cell_type": "markdown",
   "id": "592d7d10",
   "metadata": {},
   "source": [
    "# Python Sets For Beginners\n",
    "\n",
    "A set in python is an collection of unordered items\n",
    "\n",
    "- Each element in a set must be immutable and unique\n",
    "- Sets in python also start with curly braces {} "
   ]
  },
  {
   "cell_type": "code",
   "execution_count": 99,
   "id": "1f717de8",
   "metadata": {},
   "outputs": [
    {
     "name": "stdout",
     "output_type": "stream",
     "text": [
      "{'sidd', 1, 2, 3, 4, 5}\n",
      "<class 'set'>\n",
      "{'sidd', 1, 2, 3, 4, 5}\n",
      "6\n"
     ]
    }
   ],
   "source": [
    "collection = {1,2,3,4,5, \"sidd\"}\n",
    "print(collection)\n",
    "print(type(collection))\n",
    "\n",
    "\n",
    "#sets in python will ignore duplicate values without giving error\n",
    "#each output gives a new set coz sets are unordered\n",
    "\n",
    "collection = {1,2,2,3,4,2,5, \"sidd\", \"sidd\"}\n",
    "print(collection)\n",
    "\n",
    "#we can also find out length of a set\n",
    "#python ignores duplicate values, thats why length will still be 6 \n",
    "\n",
    "collection = {1,2,3,4,5,5, \"sidd\", \"sidd\"}\n",
    "print(len(collection))"
   ]
  },
  {
   "cell_type": "markdown",
   "id": "dcbe7351",
   "metadata": {},
   "source": [
    "## 1. Empty Sets In Python \n",
    "\n",
    "- We can create empty sets in python but not with { curly braces }\n",
    "- We must use collection = set() to denote that we have made an empty set \n",
    "- It is because {curly braces} are used to create empty dictionaries"
   ]
  },
  {
   "cell_type": "code",
   "execution_count": 100,
   "id": "83c4875f",
   "metadata": {},
   "outputs": [
    {
     "name": "stdout",
     "output_type": "stream",
     "text": [
      "<class 'dict'>\n"
     ]
    }
   ],
   "source": [
    "group = {}\n",
    "print(type(group)) #gives dict\n",
    "\n",
    "# group = set()\n",
    "# print(type(group)) #now gives set "
   ]
  },
  {
   "cell_type": "markdown",
   "id": "c0b9f984",
   "metadata": {},
   "source": [
    "## 2. Python Sets Methods\n",
    "\n",
    "- set.add() will add an element to the set \n",
    "\n",
    "- set.remove() will remove an element\n",
    "\n",
    "- set.clear() will make the set empty\n",
    "\n",
    "- set.pop() will remove a random value \n",
    "\n",
    "- set.union() will combine both set values and returns new\n",
    "\n",
    "- set.intersection() will combine common values in 2 sets and returns new"
   ]
  },
  {
   "cell_type": "code",
   "execution_count": 101,
   "id": "1b312fbf",
   "metadata": {},
   "outputs": [
    {
     "name": "stdout",
     "output_type": "stream",
     "text": [
      "{1, 2, 3, 4, 5}\n",
      "{1, 3, 4, 5}\n",
      "i have emptied the set hihi\n",
      "sidd\n",
      "python\n",
      "AI\n",
      "ML\n",
      "Robots\n",
      "{1, 2, 3, 4, 5, 6, 40, 10, 20, 30}\n",
      "{2, 3, 4, 5}\n"
     ]
    }
   ],
   "source": [
    "#sets themselves are mutable\n",
    "#but the elements in sets must be immutable\n",
    "#we cant add lists and dicts to a set coz they are unhashable means they can be changed\n",
    "#we can add tuples to a set coz tuples are hashable means they have a fixed has value and cant be changed\n",
    "\n",
    "#dot add() will add elements to the set \n",
    "#duplicate values will always be ignored\n",
    "\n",
    "cluster = {3,4,5}\n",
    "\n",
    "cluster.add(1)\n",
    "\n",
    "cluster.add(2)\n",
    "\n",
    "print(cluster)\n",
    "\n",
    "#dot remove will remove a desired element\n",
    "\n",
    "cluster.remove(2)\n",
    "\n",
    "print(cluster)\n",
    "\n",
    "#dot clear will empty the set \n",
    "\n",
    "cluster.clear()\n",
    "print(\"i have emptied the set hihi\")\n",
    "\n",
    "#dot pop will pop out random values from a set with each output \n",
    "\n",
    "cluster = {\"sidd\", \"python\", \"ML\", \"AI\", \"Robots\"}\n",
    "\n",
    "print(cluster.pop())\n",
    "\n",
    "print(cluster.pop())\n",
    "\n",
    "print(cluster.pop())\n",
    "\n",
    "print(cluster.pop())\n",
    "\n",
    "print(cluster.pop())\n",
    "\n",
    "#dot union will combine values of 2 sets \n",
    "\n",
    "set = {1,2,3,4,5,6}\n",
    "set2 = {10,20,30,40}\n",
    "\n",
    "print(set.union(set,set2))\n",
    "\n",
    "#dot intersection will combine common values of 2 sets\n",
    "\n",
    "grp = {1,2,3,4,5,6}\n",
    "grp2 = {7,2,4,9,5,3}\n",
    "\n",
    "print(grp.intersection(grp,grp2))"
   ]
  },
  {
   "cell_type": "markdown",
   "id": "cab38b1a",
   "metadata": {},
   "source": [
    "# Difference Between Lists, Tuples, Dictionaries, Sets \n",
    "\n",
    "| Feature / Type               | **List**                              | **Tuple**                           | **Set**                                   | **Dictionary**                            |\n",
    "| ---------------------------- | ------------------------------------- | ----------------------------------- | ----------------------------------------- | ----------------------------------------- |\n",
    "| **Syntax**                   | `[1, 2, 3]`                           | `(1, 2, 3)`                         | `{1, 2, 3}`                               | `{\"a\": 1, \"b\": 2}`                        |\n",
    "| **Ordered**                  | ✅ Yes (keeps insertion order)         | ✅ Yes                               | ❌ No (unordered)                          | ✅ Yes (since Python 3.7+)                 |\n",
    "| **Indexed**                  | ✅ Yes                                 | ✅ Yes                               | ❌ No                                      | ✅ By keys                                 |\n",
    "| **Mutable (can change)**     | ✅ Yes                                 | ❌ No                                | ✅ Yes                                     | ✅ Yes                                     |\n",
    "| **Allows duplicates**        | ✅ Yes                                 | ✅ Yes                               | ❌ No (unique only)                        | ❌ Keys must be unique (values can repeat) |\n",
    "| **Elements type**            | Any (can mix)                         | Any (can mix)                       | Must be immutable (e.g. no lists)         | Keys immutable, values any type           |\n",
    "| **Access method**            | `mylist[0]`                           | `mytuple[0]`                        | via loops / membership: `in`              | `mydict[\"key\"]`                           |\n",
    "| **Change elements**          | `mylist[1] = \"x\"`                     | ❌ Not allowed                       | Add/remove with `add()` / `remove()`      | Add/update with `dict[key] = value`       |\n",
    "| **Add elements**             | `append()` / `extend()`               | ❌ Not allowed                       | `add()` / `update()`                      | `update()` or assignment                  |\n",
    "| **Remove elements**          | `remove()` / `pop()`                  | ❌ Not allowed                       | `remove()` / `discard()` / `pop()`        | `pop()` / `del`                           |\n",
    "| **Duplicates auto removed?** | ❌ No                                  | ❌ No                                | ✅ Yes                                     | ✅ (for keys)                              |\n",
    "| **Can be nested**            | ✅ Yes                                 | ✅ Yes                               | ✅ Yes (only immutable inside)             | ✅ Yes (values can be dicts/lists)         |\n",
    "| **Use case**                 | Ordered collections that change often | Fixed data you don’t want to modify | Unique items, membership tests, set logic | Key–value mappings, structured data       |\n"
   ]
  }
 ],
 "metadata": {
  "kernelspec": {
   "display_name": "Python 3",
   "language": "python",
   "name": "python3"
  },
  "language_info": {
   "codemirror_mode": {
    "name": "ipython",
    "version": 3
   },
   "file_extension": ".py",
   "mimetype": "text/x-python",
   "name": "python",
   "nbconvert_exporter": "python",
   "pygments_lexer": "ipython3",
   "version": "3.14.0"
  }
 },
 "nbformat": 4,
 "nbformat_minor": 5
}
