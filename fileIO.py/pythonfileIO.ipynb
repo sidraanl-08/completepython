{
 "cells": [
  {
   "cell_type": "markdown",
   "id": "527ce382",
   "metadata": {},
   "source": [
    "# File I/O For Beginners\n",
    "\n",
    "## Understanding File Input/Output In Python \n",
    "\n",
    "### What is FileI/O In Python?\n",
    "\n",
    "- We can use Python to perform certain ops on files like reading and writing data"
   ]
  },
  {
   "cell_type": "markdown",
   "id": "47d3e213",
   "metadata": {},
   "source": [
    "## 1. Types Of Files:\n",
    "\n",
    "There are two common types of files in python\n",
    "\n",
    "- Text Files: .txt, .docx, .log etc\n",
    "- Binary Files: .mp4, .png, .jpg, .jpeg, .mov"
   ]
  },
  {
   "cell_type": "markdown",
   "id": "cb1335df",
   "metadata": {},
   "source": [
    "## 2. Open, Write, Read A File\n",
    "\n",
    "- We have to open a file first before reading or wiritng it "
   ]
  },
  {
   "cell_type": "markdown",
   "id": "3357b63f",
   "metadata": {},
   "source": [
    "### 1. Reading A File"
   ]
  },
  {
   "cell_type": "code",
   "execution_count": 39,
   "id": "e69533fc",
   "metadata": {},
   "outputs": [
    {
     "name": "stdout",
     "output_type": "stream",
     "text": [
      "Previous data has been overwritten by sidra\n",
      "\n",
      " on wednesday at 10:25pm\n",
      "\n",
      " coz sidra wanted everything to be formatted\n",
      "\n",
      "<class 'str'>\n",
      "Previ\n",
      "Previous data has been overwritten by sidra\n",
      "\n",
      "\n",
      "\n",
      " on wednesday at 10:25pm\n",
      "\n",
      "\n",
      "\n"
     ]
    }
   ],
   "source": [
    "#we can use with open() as file to open a file\n",
    "#we can add the path and then mode (r,w,r+,w+) to perform ops on this file\n",
    "#we can copy paste our file path by right clicking and copying path\n",
    "#we dont have to close the file since we r using with file option\n",
    "\n",
    "# path = \"C:/Users/sidra/Desktop/completepython.py/fileIO.py/demo.txt\"\n",
    "\n",
    "with open(path, \"r\") as file:\n",
    "    data = file.read()\n",
    "    print(data)\n",
    "    print(type(data))\n",
    "\n",
    "\n",
    "# #here i can read specified characters in a file by using a parameter like 5\n",
    "# #dot read() will read the entire file \n",
    "\n",
    "path = \"C:/Users/sidra/Desktop/completepython.py/fileIO.py/demo.txt\"\n",
    "\n",
    "with open(path, \"r\") as file:\n",
    "    data = file.read(5)\n",
    "    print(data)\n",
    "\n",
    "#we can also use dot readline() which reads one line at a time\n",
    "\n",
    "path = \"C:/Users/sidra/Desktop/completepython.py/fileIO.py/demo.txt\"\n",
    "\n",
    "with open(path, \"r\") as file:\n",
    "    line1 = file.readline()\n",
    "    line2 = file.readline()\n",
    "    line3 = file.readline()\n",
    "    line4 = file.readline()\n",
    "\n",
    "print(line1)\n",
    "print(line2)\n",
    "print(line3)\n",
    "print(line4)"
   ]
  },
  {
   "cell_type": "markdown",
   "id": "f511200a",
   "metadata": {},
   "source": [
    "### 2. Writing In A File\n",
    "\n",
    "- We can write in files in 2 ways\n",
    "- We can either use \"w\" mode which is overwrite mode means it will delete the old data and write new one\n",
    "- Or we can use \"a\" append mode which will add new data at the end"
   ]
  },
  {
   "cell_type": "code",
   "execution_count": 38,
   "id": "f345bed3",
   "metadata": {},
   "outputs": [],
   "source": [
    "#here we are overwriting the old data in dot txt file using \"w\" mode\n",
    "\n",
    "path = \"C:/Users/sidra/Desktop/completepython.py/fileIO.py/demo.txt\"\n",
    "\n",
    "with open(path, \"w\") as file:\n",
    "    file.write(\"Previous data has been overwritten by sidra\\n\")\n",
    "    file.write(\"\\n on wednesday at 10:25pm\\n\")\n",
    "\n",
    "#here we are appending new data at the end of the previous data using \"a\" mode\n",
    "with open(path, \"a\") as file:\n",
    "    file.write(\"\\n coz sidra wanted everything to be formatted\\n\")\n",
    "    \n",
    "\n",
    "#we can also create new files using \"w\" mode\n",
    "#but we must give it a correct path first \n",
    "\n",
    "newfile = \"C:/Users/sidra/Desktop/completepython.py/fileIO.py/newfile.txt\"\n",
    "\n",
    "# with open(newfile, \"w\") as file2:\n",
    "#   file2.write(\"hi this is my newfile \")\n",
    "\n",
    "#we can also make a new file with \"a\" mode\n",
    "with open(newfile, \"w\") as file3:\n",
    "    file3.write(\"i made this new file with a mode\\n\")\n",
    "    file3.write(\"\\nboth modes are interesting\\n\")\n",
    "\n"
   ]
  },
  {
   "cell_type": "markdown",
   "id": "3b57aaaf",
   "metadata": {},
   "source": [
    "### 3. Deleting A File\n",
    "\n",
    "- We need to use a module to delete a file \n",
    "\n",
    "### What Is A Module?\n",
    "\n",
    "- A module is like a library is a file written by another programmer \n",
    "- It has functions that we can use \n",
    "- We will use \"os\" module to delete a file"
   ]
  },
  {
   "cell_type": "code",
   "execution_count": 43,
   "id": "dd97337f",
   "metadata": {},
   "outputs": [],
   "source": [
    "#some modules are built-in python like os\n",
    "#some modules are not built-in python like tensorflow\n",
    "#we need to use pip install tensorflow when we want to use external modules\n",
    "#we use import keyword before using any modules\n",
    "\n",
    "import os\n",
    "\n",
    "os.remove(\"newfile.txt\")"
   ]
  }
 ],
 "metadata": {
  "kernelspec": {
   "display_name": "Python 3",
   "language": "python",
   "name": "python3"
  },
  "language_info": {
   "codemirror_mode": {
    "name": "ipython",
    "version": 3
   },
   "file_extension": ".py",
   "mimetype": "text/x-python",
   "name": "python",
   "nbconvert_exporter": "python",
   "pygments_lexer": "ipython3",
   "version": "3.14.0"
  }
 },
 "nbformat": 4,
 "nbformat_minor": 5
}
