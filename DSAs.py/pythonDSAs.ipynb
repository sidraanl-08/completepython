{
 "cells": [
  {
   "cell_type": "markdown",
   "id": "ff8b9d67",
   "metadata": {},
   "source": [
    "# What Are Python Data Structures?\n",
    "\n",
    "- DSAs are building blocks for our python code that help us or raw materials for our python program\n",
    "\n",
    "- Different programming languages use different DSAs\n",
    "\n",
    "- We must use right DSAs for solving a problem\n",
    "\n",
    "- DSAs are nothing but specific containers storing data in a specific memory layout\n",
    "\n",
    "- Python uses a list for using an array\n",
    "\n",
    "- Python uses a hash table for using a dictionary"
   ]
  },
  {
   "cell_type": "markdown",
   "id": "2d9c9fde",
   "metadata": {},
   "source": [
    "## 1. Big O Notation\n",
    "\n",
    "- It is used to measure running time and spce requirements for our program will grow as our input size will grow\n",
    "\n",
    "- 💡 Think of it like this:\n",
    "\n",
    "- Imagine you have to hand out flyers:\n",
    "\n",
    "- If you give 1 person 1 flyer → takes 1 step.\n",
    "\n",
    "- If you give 100 people flyers → takes 100 steps.\n",
    "\n",
    "- 👉 So, your work grows directly with the number of people → that’s O(n).\n",
    "\n",
    "\n",
    "| **Big O Notation** | **Name**         | **Flyer / People Example**                                             | **What It Means (Growth)**                                |\n",
    "| ------------------ | ---------------- | ---------------------------------------------------------------------- | --------------------------------------------------------- |\n",
    "| **O(1)**           | Constant time    | You hand **1 flyer to 1 specific person** — always 1 step              | Time doesn’t grow, no matter how many people              |\n",
    "| **O(log n)**       | Logarithmic time | You divide a crowd in half each time to find **1 person**              | Work shrinks by half every step                           |\n",
    "| **O(n)**           | Linear time      | You hand **1 flyer to each of n people**                               | Work grows directly with the number of people             |\n",
    "| **O(n log n)**     | Log-linear time  | You split the crowd into groups, then hand flyers in each group        | Slightly slower than linear, typical in efficient sorting |\n",
    "| **O(n²)**          | Quadratic time   | You ask **every person about every other person**                      | Work = n × n — grows very fast                            |\n",
    "| **O(2ⁿ)**          | Exponential time | For each person, you consider **every possible combination of flyers** | Work doubles with every new person                        |\n",
    "| **O(n!)**          | Factorial time   | You try **every possible order to hand out flyers to everyone**        | Work explodes — extremely slow                            |\n"
   ]
  },
  {
   "cell_type": "markdown",
   "id": "0736cf44",
   "metadata": {},
   "source": [
    "| **DS / Operation**        | **Access**      | **Search** | **Insertion**         | **Deletion** | **Tip / Analogy**                      |\n",
    "| ------------------------- | --------------- | ---------- | --------------------- | ------------ | -------------------------------------- |\n",
    "| **List / Array**          | O(1)            | O(n)       | O(1) end, O(n) middle | O(n) middle  | Array = row of flyers                  |\n",
    "| **Stack**                 | O(1) top        | O(n)       | O(1) push/pop         | O(1) pop top | Stack = pile of flyers                 |\n",
    "| **Queue**                 | O(1) front/back | O(n)       | O(1) enqueue          | O(1) dequeue | Queue = line of people                 |\n",
    "| **Set**                   | O(1) avg        | O(1) avg   | O(1) avg              | O(1) avg     | Set = only unique flyers               |\n",
    "| **Dict / Map**            | O(1) avg        | O(1) avg   | O(1) avg              | O(1) avg     | Dict = name tag mapping                |\n",
    "| **Heap / Priority Queue** | O(1) peek       | O(n)       | O(log n)              | O(log n)     | Heap = hand flyers to highest priority |\n",
    "| **Linked List**           | O(n)            | O(n)       | O(1) head/tail        | O(1) head    | Linked list = chain of flyers          |\n"
   ]
  },
  {
   "cell_type": "markdown",
   "id": "71d39cc9",
   "metadata": {},
   "source": [
    "## 2. Arrays\n",
    "\n",
    "- They are stores at a specific memory in our system\n",
    "\n",
    "- If first array element is 298 , it will be stored at 0x00500 location but in bits and bytes format\n",
    "\n",
    "- So let's imagine stock price in a list[2] is 320\n",
    "\n",
    "- Now this 320 will be stored at location 0x00508 \n",
    "\n",
    "- What it is doing that it is adding + 2 in 00500 * size of integer "
   ]
  },
  {
   "cell_type": "code",
   "execution_count": 45,
   "id": "e78157fa",
   "metadata": {},
   "outputs": [
    {
     "name": "stdout",
     "output_type": "stream",
     "text": [
      "[1, 2, 3, 4, 5, 6]\n",
      "Big O: O(1)\n",
      "3\n",
      "Big O: O(1)\n",
      "[1, 10, 2, 3, 4, 5, 6]\n",
      "Big O: O(n)\n"
     ]
    }
   ],
   "source": [
    "#we r appending the array here, so it is 1 function\n",
    "\n",
    "array = [1,2,3,4,5]\n",
    "array.append(6)\n",
    "print(array)\n",
    "print(\"Big O: O(1)\")\n",
    "\n",
    "#we are accessing 1 element of array which is 1 function\n",
    "\n",
    "print(array[2])\n",
    "print(\"Big O: O(1)\")\n",
    "\n",
    "#here we are inserting 10 ; a number in an array which will be n function\n",
    "\n",
    "array.insert(1,10)\n",
    "print(array) #it has also shifted all the other elements to the right which is n functions\n",
    "print(\"Big O: O(n)\")"
   ]
  },
  {
   "cell_type": "markdown",
   "id": "1555a300",
   "metadata": {},
   "source": [
    "## Stack (LIFO; Last In First Out)\n",
    "\n",
    "- The last item you add is the first one to be removed.\n",
    "\n",
    "- Imagine a stack of plates:\n",
    "\n",
    "- You put plate A → then plate B → then plate C.\n",
    "\n",
    "- When you remove a plate, C comes out first, then B, then A.\n",
    "\n",
    "- Analogy: Stack of flyers:\n",
    "\n",
    "- You put flyers on top of a pile.\n",
    "\n",
    "= The last flyer you put on the pile is the first one you hand out."
   ]
  },
  {
   "cell_type": "code",
   "execution_count": 46,
   "id": "6b67c086",
   "metadata": {},
   "outputs": [
    {
     "name": "stdout",
     "output_type": "stream",
     "text": [
      "C\n",
      "Big O (1)\n",
      "B\n",
      "Big O (1)\n",
      "A\n",
      "Big O (1)\n"
     ]
    }
   ],
   "source": [
    "#LIFO simply means, whatever we put in the end, gets taken out first\n",
    "\n",
    "stack = []\n",
    "\n",
    "stack.append(\"A\")\n",
    "stack.append(\"B\")\n",
    "stack.append(\"C\") #we placed C plate at the last\n",
    "\n",
    "print(stack.pop()) #so first pop will take out C \n",
    "print(\"Big O (1)\")\n",
    "\n",
    "print(stack.pop()) #so second pop will take out B\n",
    "print(\"Big O (1)\")\n",
    "\n",
    "print(stack.pop()) #so it wll take out A\n",
    "print(\"Big O (1)\")"
   ]
  },
  {
   "cell_type": "markdown",
   "id": "f531feea",
   "metadata": {},
   "source": [
    "## 3. Queue (FIFO; First In First Out)\n",
    "\n",
    "- The first item you add is the first one to be removed.\n",
    "\n",
    "- Imagine a queue at a ticket counter:\n",
    "\n",
    "- Person A comes first, then B, then C.\n",
    "\n",
    "- The first person in line (A) gets served first, then B, then C.\n",
    "\n",
    "- Analogy: Queue of people waiting for flyers:\n",
    "\n",
    "- The first person in line gets the flyer before everyone else, even if more people join later."
   ]
  },
  {
   "cell_type": "code",
   "execution_count": 47,
   "id": "9286ec8a",
   "metadata": {},
   "outputs": [
    {
     "name": "stdout",
     "output_type": "stream",
     "text": [
      "Big O (1)\n",
      "A\n",
      "B\n",
      "C\n",
      "Big O (n)\n"
     ]
    }
   ],
   "source": [
    "queue = []\n",
    "\n",
    "#enqueue means adding an element\n",
    "#here list is allocating one space at the end \n",
    "#it means adding at the end is constant time\n",
    "\n",
    "queue.append(\"A\")\n",
    "queue.append(\"B\")\n",
    "queue.append(\"C\")\n",
    "\n",
    "print(\"Big O (1)\")\n",
    "\n",
    "#dequeue means deleting an element\n",
    "#after deleting all remaining elements move to one position left\n",
    "#so if a list has n elements, it will take n steps\n",
    "\n",
    "print(queue.pop(0))\n",
    "print(queue.pop(0))\n",
    "print(queue.pop(0))\n",
    "\n",
    "print(\"Big O (n)\")"
   ]
  },
  {
   "cell_type": "markdown",
   "id": "e1e9ec93",
   "metadata": {},
   "source": [
    "## 4. Sets"
   ]
  },
  {
   "cell_type": "code",
   "execution_count": 48,
   "id": "c93f0805",
   "metadata": {},
   "outputs": [
    {
     "name": "stdout",
     "output_type": "stream",
     "text": [
      "{1, 2, 3, 23}\n",
      "Big O (1)\n",
      "True\n",
      "Big O (1)\n",
      "{2, 3, 23}\n",
      "Big O (1)\n"
     ]
    }
   ],
   "source": [
    "#here hash table lookup will be constant\n",
    "\n",
    "set = {1, 2, 3}\n",
    "\n",
    "#we added 23 at the end of set which is 1 op\n",
    "\n",
    "set.add(23)\n",
    "print(set)\n",
    "print(\"Big O (1)\")\n",
    "\n",
    "#here it is checking if the element exists in our set\n",
    "\n",
    "print(3 in set) \n",
    "print(\"Big O (1)\")\n",
    "\n",
    "#here we are deleting one element from the set which is also one op\n",
    "\n",
    "set.remove(1)\n",
    "print(set)\n",
    "print(\"Big O (1)\")"
   ]
  },
  {
   "cell_type": "markdown",
   "id": "f92ba394",
   "metadata": {},
   "source": [
    "## 5. Dictionary/Map"
   ]
  },
  {
   "cell_type": "code",
   "execution_count": 49,
   "id": "9ad06aeb",
   "metadata": {},
   "outputs": [
    {
     "name": "stdout",
     "output_type": "stream",
     "text": [
      "{'sidra': 24, 'bob': '30', 'charlie': 20}\n",
      "Big O (1)\n",
      "24\n",
      "Big O (1)\n",
      "{'sidra': 24, 'charlie': 20}\n",
      "Big O (1)\n"
     ]
    }
   ],
   "source": [
    "dict = {\"sidra\" : 24, \"bob\" : \"30\"}\n",
    "\n",
    "#we are adding charlie and 20 in the dict\n",
    "\n",
    "dict[\"charlie\"] = 20\n",
    "\n",
    "print(dict)\n",
    "print(\"Big O (1)\")\n",
    "\n",
    "#we are trying to access a key in the dict\n",
    "\n",
    "print(dict[\"sidra\"])\n",
    "print(\"Big O (1)\")\n",
    "\n",
    "\n",
    "#we are deleting something from out dict\n",
    "\n",
    "del dict[\"bob\"]\n",
    "print(dict)\n",
    "print(\"Big O (1)\")"
   ]
  },
  {
   "cell_type": "markdown",
   "id": "863cde8a",
   "metadata": {},
   "source": [
    "## 7. Sorting"
   ]
  },
  {
   "cell_type": "code",
   "execution_count": 50,
   "id": "33dddb9f",
   "metadata": {},
   "outputs": [
    {
     "name": "stdout",
     "output_type": "stream",
     "text": [
      "[1, 2, 5, 9]\n",
      "Big O (nlogn)\n"
     ]
    }
   ],
   "source": [
    "#Python uses Timsort (merge + insertion sort)\n",
    "#Merges repeatedly halve array and combine → log n levels\n",
    "#Each level processes n elements → O(n log n)\n",
    "\n",
    "array = [5,2,9,1]\n",
    "array.sort()\n",
    "\n",
    "print(array)\n",
    "print(\"Big O (nlogn)\")"
   ]
  },
  {
   "cell_type": "markdown",
   "id": "5288c1c1",
   "metadata": {},
   "source": [
    "# What Are Python Algorithms?\n"
   ]
  },
  {
   "cell_type": "markdown",
   "id": "6d6618ff",
   "metadata": {},
   "source": [
    "## 1. Bubble Sort\n",
    "\n",
    "- You want flyers arranged by age.\n",
    "\n",
    "- Compare neighboring flyers and swap if wrong.\n",
    "\n",
    "- Repeat until all flyers are in order."
   ]
  },
  {
   "cell_type": "code",
   "execution_count": 51,
   "id": "1518ffc3",
   "metadata": {},
   "outputs": [
    {
     "name": "stdout",
     "output_type": "stream",
     "text": [
      "[1, 2, 5, 9]\n",
      "Big O(n**2)\n"
     ]
    }
   ],
   "source": [
    "arr = [5, 2, 9, 1]\n",
    "n = len(arr)\n",
    "\n",
    "for i in range(n):\n",
    "    for j in range(0, n-i-1):\n",
    "        if arr[j] > arr[j+1]:\n",
    "            arr[j], arr[j+1] = arr[j+1], arr[j]\n",
    "\n",
    "print(arr)\n",
    "\n",
    "print(\"Big O(n**2)\")"
   ]
  },
  {
   "cell_type": "markdown",
   "id": "10797dcb",
   "metadata": {},
   "source": [
    "## 2. Linear Search"
   ]
  },
  {
   "cell_type": "code",
   "execution_count": 52,
   "id": "73cfabea",
   "metadata": {},
   "outputs": [
    {
     "name": "stdout",
     "output_type": "stream",
     "text": [
      "2\n",
      "Big O(n)\n",
      "Found Charlie\n",
      "Big O(logn)\n"
     ]
    }
   ],
   "source": [
    "#linear search\n",
    "#each element is being checked with each step\n",
    "#you want a flyer with a specific name.\n",
    "#you check each person in line one by one until you find the person.\n",
    "\n",
    "arr = [3, 5, 2, 9]\n",
    "for i, val in enumerate(arr):\n",
    "    if val == 2:\n",
    "        print(i)\n",
    "\n",
    "print(\"Big O(n)\")\n",
    "\n",
    "\n",
    "#binary search\n",
    "#flyers are in alphabetical order.\n",
    "#you open the line in the middle and see if the name is before or after.\n",
    "#keep splitting the line in half until you find the person.\n",
    "\n",
    "flyers = ['Alice', 'Bob', 'Charlie', 'David']\n",
    "target = 'Charlie'\n",
    "\n",
    "low, high = 0, len(flyers)-1\n",
    "while low <= high:\n",
    "    mid = (low + high)//2\n",
    "    if flyers[mid] == target:\n",
    "        print(\"Found\", flyers[mid])\n",
    "        break\n",
    "    elif flyers[mid] < target:\n",
    "        low = mid + 1\n",
    "    else:\n",
    "        high = mid - 1\n",
    "\n",
    "\n",
    "print(\"Big O(logn)\")\n"
   ]
  },
  {
   "cell_type": "markdown",
   "id": "29899a98",
   "metadata": {},
   "source": [
    "## 3. Recursion"
   ]
  },
  {
   "cell_type": "code",
   "execution_count": 53,
   "id": "48da28f2",
   "metadata": {},
   "outputs": [
    {
     "name": "stdout",
     "output_type": "stream",
     "text": [
      "120\n",
      "Big O (n)\n"
     ]
    }
   ],
   "source": [
    "def factorial(n):\n",
    "    if n == 0:\n",
    "        return 1\n",
    "    return n*factorial(n-1)\n",
    "\n",
    "print(factorial(5))\n",
    "\n",
    "print(\"Big O (n)\") #the recursion is occuring upto 5 steps with each call"
   ]
  },
  {
   "cell_type": "markdown",
   "id": "7b12c6b4",
   "metadata": {},
   "source": [
    "## 4. BFS (Breadth First Search)\n",
    "\n",
    "- Flyers travel level by level in a network of friends.\n",
    "\n",
    "- First, everyone connected directly to you gets it.\n",
    "\n",
    "- Then everyone connected to them, and so on."
   ]
  },
  {
   "cell_type": "code",
   "execution_count": 54,
   "id": "21cb69dd",
   "metadata": {},
   "outputs": [],
   "source": [
    "# graph = {'A':['B','C'], 'B':['D'], 'C':['D'], 'D':[]}\n",
    "# # visited = set()\n",
    "# queue = ['A']\n",
    "\n",
    "# while queue:\n",
    "#     node = queue.pop(0)\n",
    "#     if node not in visited:\n",
    "#         print(node)\n",
    "#         visited.add(node)\n",
    "#         queue.extend([n for n in graph[node] if n not in visited])\n",
    "\n",
    "# print(\"Big O(V+E)\")"
   ]
  },
  {
   "cell_type": "markdown",
   "id": "4ac4d5ad",
   "metadata": {},
   "source": [
    "## 5. DFS (Deep First Search)\n",
    "\n",
    "\n",
    "- Flyers go deep down one chain before backtracking.\n",
    "\n",
    "- Give to the first friend, then their friend, then their friend…\n",
    "\n",
    "- When no one left in that path, backtrack to other friends."
   ]
  },
  {
   "cell_type": "code",
   "execution_count": 55,
   "id": "8179ac52",
   "metadata": {},
   "outputs": [],
   "source": [
    "# def dfs(graph, node, visited=set()):\n",
    "#     if node not in visited:\n",
    "#         print(node)\n",
    "#         visited.add(node)\n",
    "#         for neighbor in graph[node]:\n",
    "#             dfs(graph, neighbor, visited)\n",
    "\n",
    "# graph = {'A':['B','C'], 'B':['D'], 'C':['D'], 'D':[]}\n",
    "# dfs(graph, 'A')\n",
    "\n",
    "# print(\"Big O(V+E)\")"
   ]
  },
  {
   "cell_type": "markdown",
   "id": "bd9bc8d0",
   "metadata": {},
   "source": [
    "## 6. Heap/Priority Algorithm\n",
    "\n",
    "- You want flyers to most important people first.\n",
    "\n",
    "- Always give to the person with highest priority."
   ]
  },
  {
   "cell_type": "code",
   "execution_count": 56,
   "id": "17c9e6f1",
   "metadata": {},
   "outputs": [],
   "source": [
    "# import heapq\n",
    "# importance = [3,1,5,2]\n",
    "# heapq.heapify(importance)\n",
    "\n",
    "# while importance:\n",
    "#     print(heapq.heappop(importance))  # smallest number first\n"
   ]
  },
  {
   "cell_type": "markdown",
   "id": "d06e300b",
   "metadata": {},
   "source": [
    "| Algorithm     | Flyer Analogy                         | Big O                       |\n",
    "| ------------- | ------------------------------------- | --------------------------- |\n",
    "| Linear Search | Check each flyer one by one           | O(n)                        |\n",
    "| Binary Search | Open line in middle, split            | O(log n)                    |\n",
    "| Bubble Sort   | Swap neighbor flyers repeatedly       | O(n²)                       |\n",
    "| Recursion     | Delegate tasks to smaller groups      | O(n)                        |\n",
    "| BFS           | Give flyers level by level            | O(V+E)                      |\n",
    "| DFS           | Give flyers deep down one chain first | O(V+E)                      |\n",
    "| Heap / PQ     | Give flyers to most important first   | O(n) heapify + O(log n) pop |\n"
   ]
  },
  {
   "cell_type": "markdown",
   "id": "c3a17bce",
   "metadata": {},
   "source": [
    "# Python Algos CheatSheet\n"
   ]
  },
  {
   "cell_type": "markdown",
   "id": "f98b11e7",
   "metadata": {},
   "source": [
    "| Algorithm                      | Flyer Analogy                                                             | Purpose / What it does                               | Big O (Time)                    | When to Use                                  |\n",
    "| ------------------------------ | ------------------------------------------------------------------------- | ---------------------------------------------------- | ------------------------------- | -------------------------------------------- |\n",
    "| **Linear Search**              | Check each flyer in line one by one                                       | Find a specific item in **unsorted collection**      | O(n)                            | Small list, unsorted data                    |\n",
    "| **Binary Search**              | Open the line in the middle, see if the flyer is before/after, repeat     | Find a specific item in **sorted collection**        | O(log n)                        | Sorted list, fast search                     |\n",
    "| **Bubble Sort**                | Compare neighboring flyers, swap if wrong, repeat                         | Sort items in order                                  | O(n²)                           | Small lists, simple sorting                  |\n",
    "| **Recursion**                  | Delegate flyer delivery to smaller groups repeatedly                      | Solve problems by breaking into smaller sub-problems | O(n) (depends on calls)         | Factorial, Fibonacci, divide & conquer       |\n",
    "| **BFS (Breadth-First Search)** | Give flyers **level by level** to friends                                 | Traverse a network **layer by layer**                | O(V + E)                        | Shortest path, networks, social connections  |\n",
    "| **DFS (Depth-First Search)**   | Give flyers deep along one friend chain first, then backtrack             | Traverse a network **depth-wise**                    | O(V + E)                        | Path finding, maze solving, topological sort |\n",
    "| **Heap / Priority Queue**      | Always give flyer to **most important person first**                      | Get top priority items efficiently                   | O(n) heapify + O(log n) per pop | Scheduling, task management, top-k problems  |\n",
    "| **Merge Sort**                 | Divide flyers into smaller piles, sort each pile, then combine            | Efficient sorting                                    | O(n log n)                      | Large lists, guaranteed performance          |\n",
    "| **Quick Sort**                 | Pick a flyer as pivot, separate smaller & bigger flyers, sort recursively | Fast sorting on average                              | O(n log n) average, O(n²) worst | Large lists, average case fast sorting       |\n",
    "| **Insertion Sort**             | Insert each flyer in correct position in an already sorted pile           | Sort items efficiently if nearly sorted              | O(n²) worst, O(n) best          | Small lists, nearly sorted data              |\n"
   ]
  }
 ],
 "metadata": {
  "kernelspec": {
   "display_name": "Python 3",
   "language": "python",
   "name": "python3"
  },
  "language_info": {
   "codemirror_mode": {
    "name": "ipython",
    "version": 3
   },
   "file_extension": ".py",
   "mimetype": "text/x-python",
   "name": "python",
   "nbconvert_exporter": "python",
   "pygments_lexer": "ipython3",
   "version": "3.14.0"
  }
 },
 "nbformat": 4,
 "nbformat_minor": 5
}
