{
 "cells": [
  {
   "cell_type": "markdown",
   "id": "a7b701bb",
   "metadata": {},
   "source": [
    "# Python Lists For Beginners\n",
    "\n",
    "## Understanding Python Lists\n",
    "\n",
    "### What are Python Lists? \n",
    "\n",
    "A list is an ordered, mutable collection of items (elements). These elements can be of different datatypes\n",
    "\n",
    "- We can also define lists as built-in data types in python that store set of values\n",
    "\n",
    "- We use square brackets to denote and make lists\n",
    "\n",
    "- Examples: \n",
    "\n",
    "1. empty = []\n",
    "2. nums = [1, 2, 3, 4]\n",
    "3. mixed = [1, \"hello\", 3.14, True]\n",
    "4. nested = [[1,2], [\"a\",\"b\"]]\n"
   ]
  },
  {
   "cell_type": "code",
   "execution_count": 97,
   "id": "0cbb2d4f",
   "metadata": {},
   "outputs": [
    {
     "name": "stdout",
     "output_type": "stream",
     "text": [
      "[1, 2, 3, 4, 5]\n",
      "<class 'list'>\n",
      "['apple', 87, 23.98, False]\n",
      "['sid', 24, 7.5, 'amsterdam']\n"
     ]
    }
   ],
   "source": [
    "#a basic list\n",
    "\n",
    "my_list = [1,2,3,4,5]\n",
    "print(my_list)\n",
    "print(type(my_list))\n",
    "\n",
    "#a mixed list is also valid\n",
    "\n",
    "list2 = [\"apple\", 87, 23.98, False]\n",
    "print(list2)\n",
    "\n",
    "student = [\"sid\", 24, 7.5, \"amsterdam\"] \n",
    "print(student)"
   ]
  },
  {
   "cell_type": "markdown",
   "id": "f0065c61",
   "metadata": {},
   "source": [
    "## 1. Accessing Elements In Python List \n",
    "\n",
    "- We use indices to access desired element in our list\n",
    "- Indices in a list always start from 0 \n",
    "- Index of last element would be -1"
   ]
  },
  {
   "cell_type": "code",
   "execution_count": 90,
   "id": "10842eb0",
   "metadata": {},
   "outputs": [
    {
     "name": "stdout",
     "output_type": "stream",
     "text": [
      "1\n",
      "9\n",
      "yellow\n",
      "pink\n",
      "purple\n",
      "purple\n"
     ]
    }
   ],
   "source": [
    "nums = [1,2,3,4,5,6,7,8,9]\n",
    "\n",
    "#[0] will give 1\n",
    "\n",
    "print(nums[0])\n",
    "\n",
    "#[-1] will give 9 coz its the last element\n",
    "\n",
    "print(nums[-1])\n",
    "\n",
    "colors = [\"red\", \"pink\", \"yellow\", \"purple\"]\n",
    "\n",
    "print(colors[2])\n",
    "\n",
    "print(colors[1])\n",
    "\n",
    "print(colors[3]) #here we can also write index number 3 to access last element\n",
    "\n",
    "print(colors[-1]) #using [-1] will also give the same result\n",
    "\n"
   ]
  },
  {
   "cell_type": "markdown",
   "id": "d1fe454e",
   "metadata": {},
   "source": [
    "## 2. Slicing In Python Strings\n",
    "\n",
    "Slicing in strings would get us parts of those strings called substrings\n",
    "\n",
    "- Slicing is a crucial subconcept of Machine Learning where we slice out chunks of large data for training models\n",
    "- In slicing, the starting index is included while the ending index till where the slicing must continue is exluded \n",
    "- In slicing, python always counts the spaces between a string"
   ]
  },
  {
   "cell_type": "code",
   "execution_count": 102,
   "id": "f48d5046",
   "metadata": {},
   "outputs": [
    {
     "name": "stdout",
     "output_type": "stream",
     "text": [
      "pytho\n",
      "['h', 'a', 'p', 'p', 'y']\n",
      "[2, 3, 4, 5]\n",
      "[1, 2]\n",
      "sidra\n",
      "[85, 94, 76, 53, 42]\n"
     ]
    }
   ],
   "source": [
    "word = \"this is python\"\n",
    "print(word[8:13]) #here it has excluded 13 coz its the last index, thats why it gives pytho not python\n",
    "\n",
    "word2 = [\"h\",\"a\",\"p\",\"p\",\"y\"]\n",
    "print(word2[0:]) #if we dont write the ending index, python will understand we want to go till end\n",
    "\n",
    "numbers = [1,2,3,4,5]\n",
    "print(numbers[1:]) #here we start from index 1 which is 2 in the list and go till the end \n",
    "print(numbers[:-3]) #if we start from -ve indices and dont start starting index, python will move till the first index itself \n",
    "\n",
    "name = [\"i am sidra nl\", \"what is ur name\"]\n",
    "print(name[0][5:10]) #we can access and element in a string, and then access its components directly\n",
    "\n",
    "marks = [85, 94, 76, 53, 42]\n",
    "print(marks[0:])"
   ]
  },
  {
   "cell_type": "markdown",
   "id": "eff16aa4",
   "metadata": {},
   "source": [
    "## 3. Lists Are Mutable \n",
    "\n",
    "- Since lists are mutable, means they can be modified\n",
    "- We can update them by indexing and slicing"
   ]
  },
  {
   "cell_type": "code",
   "execution_count": null,
   "id": "9203e701",
   "metadata": {},
   "outputs": [
    {
     "name": "stdout",
     "output_type": "stream",
     "text": [
      "[25, 2, 3]\n",
      "[25, 'sidra', 'nl']\n",
      "['apple', 'blueberry', 'cherry']\n",
      "hello\n",
      "['jello']\n"
     ]
    }
   ],
   "source": [
    "list3 = [1,2,3]\n",
    "list3[0] = 25 #we r saying that at 0 index of list3, we want to add 25\n",
    "print(list3)\n",
    "\n",
    "alist = [25, 2,3]\n",
    "\n",
    "#here we used [1:3] even tho index 3 doesnot exist, python will not complain\n",
    "#we r saying that start from index 1 and move untill index 3 but dont include 3\n",
    "#so it replaces 2 , 3 from old list with sidra, nl in the new list\n",
    "\n",
    "alist [1:3] = [\"sidra\", \"nl\"] \n",
    "print(alist)\n",
    "\n",
    "fruit = [\"apple\", \"banana\", \"cherry\"]\n",
    "fruit[1] = \"blueberry\"\n",
    "print(fruit)\n",
    "\n",
    "#we cant mutate strings like lists in python\n",
    "\n",
    "# str = \"hello\"\n",
    "# print(str[0])\n",
    "# str[0] = \"j\" #this throws error coz strings are immutable\n",
    "\n",
    "#we can mutate lists like this \n",
    "\n",
    "word1 = [\"hello\"]\n",
    "print(word1[0])\n",
    "word1[0] = \"jello\"\n",
    "print(word1)"
   ]
  },
  {
   "cell_type": "markdown",
   "id": "4fe84032",
   "metadata": {},
   "source": [
    "## List Packing & Unpacking\n",
    "\n",
    "- Packing: Storing multiple values in a list\n",
    "- Unpacking: Using multiple variables to store one list"
   ]
  },
  {
   "cell_type": "code",
   "execution_count": 5,
   "id": "e9b8c80b",
   "metadata": {},
   "outputs": [
    {
     "name": "stdout",
     "output_type": "stream",
     "text": [
      "[10, 20, 30]\n",
      "10 20 30\n",
      "['hello', 'donkey']\n",
      "['jello', 'monkey']\n"
     ]
    }
   ],
   "source": [
    "#list packing\n",
    "\n",
    "numbs = [10, 20, 30]\n",
    "print(numbs)\n",
    "\n",
    "#list unpacking\n",
    "\n",
    "a,b,c = numbs\n",
    "print(a,b,c)\n",
    "\n",
    "#assigning new values using unpacking\n",
    "\n",
    "words = [\"hello\", \"donkey\"]\n",
    "print(words)\n",
    "\n",
    "words[0], words[1] = \"jello\", \"monkey\"\n",
    "print(words)"
   ]
  },
  {
   "cell_type": "markdown",
   "id": "a978eb35",
   "metadata": {},
   "source": [
    "## 4. Basic List Methods \n",
    "\n",
    "We can further modify python lists by using some commonly used methods: \n",
    "\n",
    "a = [1,2]\n",
    "- a.append(3) will add elements to the end of a list    \n",
    "\n",
    "- a.extend([4,5]) will extend the list  \n",
    "\n",
    "- a.insert(1, 99) will insert a new number to the list with an index number \n",
    "\n",
    "- a.remove(99)  will remove first occurence an element from the list   \n",
    "\n",
    "- x = a.pop()   will also remove an element from the list   \n",
    "\n",
    "- clear() will  remove all elements in the list \n"
   ]
  },
  {
   "cell_type": "code",
   "execution_count": null,
   "id": "a2af50dd",
   "metadata": {},
   "outputs": [
    {
     "name": "stdout",
     "output_type": "stream",
     "text": [
      "[1, 2, 3, 4, 5, 10]\n",
      "[1, 2, 3, 4, 5, 10, 20, 30, 40, 50]\n",
      "[1, 2, 3, 4, 5, 10, 20, 30, 40, 50, 80]\n",
      "[1, 2, 3, 4, 5, 10, 20, 30, 40, 50]\n",
      "[1, 2, 3, 4, 5, 10, 20, 30, 40]\n",
      "i have deleted all the elements \n"
     ]
    }
   ],
   "source": [
    "nums3 = [1,2,3,4,5]\n",
    "\n",
    "#append will add an element to the end of list\n",
    "\n",
    "nums3.append(10) \n",
    "print(nums3) \n",
    "\n",
    "#extend requires an iterable here like a list, tuple not an int\n",
    "#we must extend elements within the square brackets\n",
    "\n",
    "nums3.extend([20,30, 40 , 50]) \n",
    "print(nums3)\n",
    "\n",
    "#insert requires two arguments, one for index and for the new value\n",
    "nums3.insert(10, 80)\n",
    "print(nums3)\n",
    "\n",
    "#remove will delete the element\n",
    "nums3.remove(80)\n",
    "print(nums3)\n",
    "\n",
    "#pop requires an index number to pop out the element present on that index\n",
    "x = 9\n",
    "nums3.pop(x)\n",
    "print(nums3)\n",
    "\n",
    "#clear will delete all the elements in a list\n",
    "nums3.clear()\n",
    "print(\"i have deleted all the elements \")\n",
    "\n"
   ]
  },
  {
   "cell_type": "markdown",
   "id": "c89354a2",
   "metadata": {},
   "source": [
    "## 5. len() Function In Python Lists\n",
    "\n",
    "- It gives the length of a list means total number of elements present in a list"
   ]
  },
  {
   "cell_type": "code",
   "execution_count": 94,
   "id": "427a6fee",
   "metadata": {},
   "outputs": [
    {
     "name": "stdout",
     "output_type": "stream",
     "text": [
      "5\n"
     ]
    }
   ],
   "source": [
    "vegs = [\"cabbage\", \"carrot\", \"potato\", \"mushroom\", \"iceberg\"]\n",
    "print(len(vegs))"
   ]
  },
  {
   "cell_type": "markdown",
   "id": "26f82693",
   "metadata": {},
   "source": [
    "## 6. Tuples In Python \n",
    "\n",
    "- Tuples are a built-in datatype that let us create immutable sequences of values\n",
    "- Lists are mutable while tuples are immutable\n",
    "- Tuples are denoted and made with parenthesis () instead of square brackets [] like lists"
   ]
  },
  {
   "cell_type": "code",
   "execution_count": 121,
   "id": "a075323a",
   "metadata": {},
   "outputs": [
    {
     "name": "stdout",
     "output_type": "stream",
     "text": [
      "<class 'tuple'>\n",
      "80\n",
      "100\n",
      "()\n",
      "<class 'tuple'>\n",
      "(1,)\n",
      "<class 'tuple'>\n",
      "1\n",
      "<class 'int'>\n",
      "hi\n",
      "<class 'str'>\n",
      "('hi',)\n",
      "<class 'tuple'> im a true tuple now coz i have a comma\n",
      "(2, 3)\n",
      "0\n",
      "2\n"
     ]
    }
   ],
   "source": [
    "tup = (50,80,100)\n",
    "print(type(tup))\n",
    "\n",
    "#we can access elements in a tuple\n",
    "\n",
    "print(tup[1])\n",
    "print(tup[2])\n",
    "\n",
    "#we cant add/delete/change anything in a tuple\n",
    "\n",
    "# tup[0] = 5 #this gives error\n",
    "\n",
    "#tuples can be empty\n",
    "\n",
    "tup = ()\n",
    "print(tup)\n",
    "print(type(tup))\n",
    "\n",
    "#when creating single value tuples, we must add comma , after them \n",
    "\n",
    "tup = (1, )\n",
    "print(tup)\n",
    "print(type(tup))\n",
    "\n",
    "#if we dont use comma, python will consider this value as an int or float or str\n",
    "\n",
    "tup = (1)\n",
    "print(tup)\n",
    "print(type(tup))\n",
    "\n",
    "tup = (\"hi\")\n",
    "print(tup)\n",
    "print(type(tup))\n",
    "\n",
    "tup = (\"hi\", )\n",
    "print(tup)\n",
    "print(type(tup), \"im a true tuple now coz i have a comma\")\n",
    "\n",
    "#slicing in tuples is also possible just like strings and lists\n",
    "\n",
    "tup = (1,2,3,4)\n",
    "print(tup[1:3])\n",
    "\n",
    "#common methods in tuples are two tup.index() and tup.count()\n",
    "#index() returns the first index number of an element\n",
    "\n",
    "tup = (1,2,1,3)\n",
    "print(tup.index(1))\n",
    "\n",
    "#count() gives number of times an element exists in a tuple\n",
    "\n",
    "tup = (1,2,1,3)\n",
    "print(tup.count(1))\n"
   ]
  },
  {
   "cell_type": "markdown",
   "id": "5a02285f",
   "metadata": {},
   "source": [
    "## Tuple Packing & Unpacking\n",
    "\n",
    "- Tuple packing means storing multiple values in one tuple\n",
    "- Tuple unpacking means assigning one tuple to multiple variables"
   ]
  },
  {
   "cell_type": "code",
   "execution_count": null,
   "id": "77f87ce4",
   "metadata": {},
   "outputs": [
    {
     "name": "stdout",
     "output_type": "stream",
     "text": [
      "('apple', 'banana', 'cherry')\n",
      "apple banana cherry\n"
     ]
    }
   ],
   "source": [
    "#tuple packing\n",
    "\n",
    "info = (\"apple\", \"banana\", \"cherry\")\n",
    "print(info)\n",
    "\n",
    "#tuple unpacking\n",
    "\n",
    "fruit1, fruit2, fruit3 = info\n",
    "print(fruit1, fruit2, fruit3)"
   ]
  },
  {
   "cell_type": "markdown",
   "id": "8d39b34c",
   "metadata": {},
   "source": [
    "# Python Lists For Intermediates"
   ]
  },
  {
   "cell_type": "markdown",
   "id": "69262ee1",
   "metadata": {},
   "source": [
    "## 5. Querying Python Lists\n",
    "\n",
    "Querying means we are asking lists for more info \n",
    "\n",
    "- Its just like interrogting somebody to extract more insights\n",
    "\n",
    "\n",
    "1. len(list) → Returns the number of elements in a list.\n",
    "\n",
    "2. in operator → Checks if a value exists in a list. Returns True or False.\n",
    "\n",
    "3. count(x) → Returns how many times x appears in a list.\n"
   ]
  },
  {
   "cell_type": "code",
   "execution_count": 84,
   "id": "1c4608c1",
   "metadata": {},
   "outputs": [
    {
     "name": "stdout",
     "output_type": "stream",
     "text": [
      "7\n",
      "False\n",
      "True\n",
      "2\n",
      "1\n"
     ]
    }
   ],
   "source": [
    "fruitbasket = [\"apple\", \"orange\", \"banana\", \"kiwi\", \"banana\", \"cherry\", \"blueberry\"]\n",
    "\n",
    "#checks the length \n",
    "\n",
    "print(len(fruitbasket))\n",
    "\n",
    "#checks if an element exists in the list\n",
    "\n",
    "print(\"guava\" in fruitbasket)\n",
    "print(\"cherry\" in fruitbasket) \n",
    "\n",
    "#checks the number of occurences of an element\n",
    "\n",
    "print(fruitbasket.count(\"banana\"))\n",
    "print(fruitbasket.count(\"blueberry\"))\n",
    "\n"
   ]
  },
  {
   "cell_type": "markdown",
   "id": "efed2c7c",
   "metadata": {},
   "source": [
    "## 6. Sorting And Reversing Lists\n",
    "\n",
    "1. sorted(list) → Returns a new sorted list. Original list stays unchanged.\n",
    "\n",
    "2. list.sort() → Sorts the list in-place.\n",
    "\n",
    "3. list.reverse() → Reverses the list in-place."
   ]
  },
  {
   "cell_type": "code",
   "execution_count": 110,
   "id": "6b9a5267",
   "metadata": {},
   "outputs": [
    {
     "name": "stdout",
     "output_type": "stream",
     "text": [
      "[1, 2, 3, 4, 5]\n",
      "[4, 2, 5, 1, 3]\n",
      "[3, 1, 5, 2, 4]\n",
      "None\n",
      "[1, 2, 3]\n",
      "None\n",
      "[3, 2, 1]\n",
      "None\n",
      "['a', 'b', 'c', 'd', 'e', 'f', 'g']\n",
      "None\n",
      "['f', 'd', 'b', 'g', 'a', 'e', 'c']\n"
     ]
    }
   ],
   "source": [
    "#we use sorted() if our list is not in order\n",
    "\n",
    "vals = [4,2,5,1,3]\n",
    "vals2 = sorted(vals)\n",
    "print(vals2)\n",
    "\n",
    "#if we print the old list, it will remain the same\n",
    "\n",
    "print(vals)\n",
    "\n",
    "#reversing lists will change the order of a pre-exisiting list\n",
    "\n",
    "vals.reverse()\n",
    "print(vals)\n",
    "\n",
    "#sorting in ascending order\n",
    "\n",
    "vals3 = [2,1,3]\n",
    "print(vals3.sort())\n",
    "print(vals3)\n",
    "\n",
    "#sorting in descending order\n",
    "\n",
    "print(vals3.sort(reverse=True))\n",
    "print(vals3)\n",
    "\n",
    "#sorting in strings is also possible\n",
    "\n",
    "letters = [\"c\", \"e\", \"a\", \"g\", \"b\", \"d\", \"f\"]\n",
    "print(letters.sort())\n",
    "print(letters)\n",
    "\n",
    "letters = [\"c\", \"e\", \"a\", \"g\", \"b\", \"d\", \"f\"]\n",
    "print(letters.reverse())\n",
    "print(letters)"
   ]
  },
  {
   "cell_type": "markdown",
   "id": "b8d623fb",
   "metadata": {},
   "source": [
    "## 7. Nested Lists (2D Lists)\n",
    "\n",
    "- 2D lists contain other sublists in them \n"
   ]
  },
  {
   "cell_type": "code",
   "execution_count": 86,
   "id": "a25f3171",
   "metadata": {},
   "outputs": [
    {
     "name": "stdout",
     "output_type": "stream",
     "text": [
      "2\n",
      "6\n",
      "[5, 6]\n"
     ]
    }
   ],
   "source": [
    "grid = [[1,2], [3,4], [5,6]]\n",
    "print(grid[0][1]) #it means element on 1 index of sublist index 0\n",
    "\n",
    "grid = [[1,2], [3,4], [5,6]]\n",
    "print(grid[2][1]) #it means element on 1 index of sublist index 0\n",
    "\n",
    "grid = [[1,2], [3,4], [5,6]]\n",
    "print(grid[2]) #it means element on 1 index of sublist index 0"
   ]
  },
  {
   "cell_type": "markdown",
   "id": "3c583fd5",
   "metadata": {},
   "source": [
    "## 8. Python Lists Built-Ins\n",
    "\n",
    "1. sum(list_of_numbers) → sum of elements\n",
    "\n",
    "2. min(list), max(list) → min/max values\n",
    "\n",
    "3. any(list_of_bools), all(list_of_bools) → boolean checks\n",
    "\n",
    "4. reversed(list) → reverse iterator"
   ]
  },
  {
   "cell_type": "code",
   "execution_count": 87,
   "id": "3d6c4765",
   "metadata": {},
   "outputs": [
    {
     "name": "stdout",
     "output_type": "stream",
     "text": [
      "150\n",
      "10\n",
      "50\n",
      "True\n",
      "True\n",
      "True\n",
      "False\n"
     ]
    }
   ],
   "source": [
    "values = [10,20,30,40,50]\n",
    "\n",
    "print(sum(values))\n",
    "\n",
    "print(min(values))\n",
    "\n",
    "print(max(values))\n",
    "\n",
    "#any() checks if any value is truthy or not\n",
    "\n",
    "print(any(values))\n",
    "\n",
    "#all() also checks if all values in a list are truthy\n",
    "\n",
    "print(all(values))\n",
    "\n",
    "#any 1 of the list elements should be truthy and 15, 25 are truthy\n",
    "\n",
    "values2 = [15, 25,  0, None]\n",
    "\n",
    "print(any(values2))\n",
    "\n",
    "#it checked if all values in this list are truthy, but 0 and None are falsy values\n",
    "#so it returns False\n",
    "\n",
    "print(all(values2))"
   ]
  },
  {
   "cell_type": "markdown",
   "id": "919c368f",
   "metadata": {},
   "source": [
    "## 9. Functional Programming With Python Lists\n",
    "\n",
    "1. Filtering: [x for x in lst if condition] → keep only elements satisfying a condition\n",
    "\n",
    "2. Mapping: [f(x) for x in lst] or map(f,lst) → transform all elements\n",
    "\n",
    "3. Zipping: list(zip(a,b)) → pair elements from multiple lists\n",
    "\n",
    "4. Sorting by key: sorted(lst, key=lambda x: x[1]) → sort complex data."
   ]
  },
  {
   "cell_type": "code",
   "execution_count": 88,
   "id": "d489d20c",
   "metadata": {},
   "outputs": [
    {
     "name": "stdout",
     "output_type": "stream",
     "text": [
      "[2, 4]\n",
      "[1, 4, 9, 16]\n",
      "[('zoe', 1), ('sid', 2), ('benny', 3), ('amarah', 4)]\n"
     ]
    }
   ],
   "source": [
    "names = [\"zoe\", \"sid\", \"benny\", \"amarah\"]\n",
    "scores = [1,2,3,4]\n",
    "\n",
    "#filtering will help us keep only even/odd numbers\n",
    "\n",
    "even = [x for x in scores if x%2 == 0]\n",
    "print(even)\n",
    "\n",
    "#mapping will give squares of all numbers \n",
    "\n",
    "squares = [x*x for x in scores]\n",
    "print(squares)\n",
    "\n",
    "#zipping will combine elements of 2 lists\n",
    "\n",
    "pairs = list(zip(names, scores))\n",
    "print(pairs)"
   ]
  },
  {
   "cell_type": "markdown",
   "id": "087d4b7a",
   "metadata": {},
   "source": [
    "# Difference Between Lists, Tuples, Sets, Dictionaries In Python\n",
    "\n",
    "| Feature               | List                                 | Tuple                         | Set                                               | Dictionary (dict)                             |\n",
    "| --------------------- | ------------------------------------ | ----------------------------- | ------------------------------------------------- | --------------------------------------------- |\n",
    "| **Definition**        | Ordered, mutable collection of items | Ordered, immutable collection | Unordered, mutable collection of **unique** items | Collection of **key-value pairs**             |\n",
    "| **Syntax**            | `[1,2,3]`                            | `(1,2,3)`                     | `{1,2,3}` or `set([1,2,3])`                       | `{\"key1\": \"value1\", \"key2\": \"value2\"}`        |\n",
    "| **Mutable?**          | ✅ Yes                                | ❌ No                          | ✅ Yes                                             | ✅ Yes                                         |\n",
    "| **Ordered?**          | ✅ Yes                                | ✅ Yes                         | ❌ No                                              | ✅ Python 3.7+ maintains insertion order       |\n",
    "| **Duplicates?**       | ✅ Allowed                            | ✅ Allowed                     | ❌ Not allowed                                     | ❌ Keys must be unique (values can repeat)     |\n",
    "| **Indexing / Access** | ✅ Yes (by position)                  | ✅ Yes (by position)           | ❌ No indexing                                     | ❌ Access by key only                          |\n",
    "| **Use case**          | Changing sequences, datasets         | Fixed/constant sequences      | Unique items, fast membership check               | Associative mapping: key → value, fast lookup |\n",
    "| **Example**           | `[10,20,30]`                         | `(10,20,30)`                  | `{1,2,3}`                                         | `{\"name\": \"Alice\", \"age\": 25}`                |\n"
   ]
  }
 ],
 "metadata": {
  "kernelspec": {
   "display_name": "Python 3",
   "language": "python",
   "name": "python3"
  },
  "language_info": {
   "codemirror_mode": {
    "name": "ipython",
    "version": 3
   },
   "file_extension": ".py",
   "mimetype": "text/x-python",
   "name": "python",
   "nbconvert_exporter": "python",
   "pygments_lexer": "ipython3",
   "version": "3.14.0"
  }
 },
 "nbformat": 4,
 "nbformat_minor": 5
}
