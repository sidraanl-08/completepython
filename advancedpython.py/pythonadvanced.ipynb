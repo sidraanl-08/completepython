{
 "cells": [
  {
   "cell_type": "markdown",
   "id": "cf811db9",
   "metadata": {},
   "source": [
    "# Advanced Python \n",
    "\n",
    "## Understanding Advanced Python"
   ]
  },
  {
   "cell_type": "markdown",
   "id": "ce23a207",
   "metadata": {},
   "source": [
    "## 1. Walrus Operator (:=)\n",
    "\n",
    "- It allows us to assign values to variables as part of an expression\n",
    "- Named before the resemblance to the eyes and tusks of a walrus\n",
    "- Officially called assignment expression"
   ]
  },
  {
   "cell_type": "code",
   "execution_count": null,
   "id": "fdff7f46",
   "metadata": {},
   "outputs": [
    {
     "name": "stdout",
     "output_type": "stream",
     "text": [
      "3 doubled is 6\n",
      "4 doubled is 8\n",
      "5 doubled is 10\n",
      "6 doubled is 12\n"
     ]
    }
   ],
   "source": [
    "#here we are printing those numbers whose doubles are greater than 5\n",
    "\n",
    "numbers = [1, 2, 3, 4, 5, 6]\n",
    "\n",
    "for n in numbers:\n",
    "    if (double := n * 2) > 5:\n",
    "        print(f\"{n} doubled is {double}\")\n",
    "\n"
   ]
  },
  {
   "cell_type": "markdown",
   "id": "b15d01a7",
   "metadata": {},
   "source": [
    "## 2. Type Definition\n",
    "\n",
    "- type definition refers to the way you declare, define, or create custom data types \n",
    "\n",
    "- type definition are used for either for type checking (type hints) or by creating new classes / aliases / generics that represent specific kinds of data\n"
   ]
  },
  {
   "cell_type": "code",
   "execution_count": null,
   "id": "078f55a8",
   "metadata": {},
   "outputs": [
    {
     "name": "stdout",
     "output_type": "stream",
     "text": [
      "36\n"
     ]
    }
   ],
   "source": [
    "n : int = 5\n",
    "\n",
    "name : str = \"siddd\"\n",
    "\n",
    "def sum(a : int, b : int): #it is telling us that both a and b are ints so type definition gives class of datatypes\n",
    "    return a + b\n",
    "\n",
    "print(sum(24,12))"
   ]
  },
  {
   "cell_type": "markdown",
   "id": "5f3b0c60",
   "metadata": {},
   "source": [
    "## 3. Type Hints"
   ]
  },
  {
   "cell_type": "code",
   "execution_count": null,
   "id": "c8f249f0",
   "metadata": {},
   "outputs": [],
   "source": [
    "from typing import dict, tuple, list\n",
    "\n",
    "#list of integers\n",
    "\n",
    "numbers: List[int] = [1,2,3]\n",
    "\n",
    "#a tuple with a string and an integer \n",
    "\n",
    "person: Tuple[str, int] = (\"sidd\", 24)\n",
    "\n",
    "#a dict with strings keys and integer values\n",
    "\n",
    "scores = Dict[str, int] = {\"doe\":90}\n",
    "\n",
    "#union type of variables that can hold multiple data types\n",
    "\n",
    "identifier: Union[int, str] = \"1234\"\n",
    "identifier: Union[int, str] = 1234 #also valid"
   ]
  },
  {
   "cell_type": "markdown",
   "id": "aa5d9d4c",
   "metadata": {},
   "source": [
    "## 4. Match Case"
   ]
  },
  {
   "cell_type": "code",
   "execution_count": 11,
   "id": "e6af702a",
   "metadata": {},
   "outputs": [
    {
     "name": "stdout",
     "output_type": "stream",
     "text": [
      "unknown status\n"
     ]
    }
   ],
   "source": [
    "def http_status(status):\n",
    "    match status:\n",
    "        case  200:\n",
    "           return \"oke\"\n",
    "        case 404:\n",
    "            return \"not found\"\n",
    "        case 500:\n",
    "            return \"internal server error\"\n",
    "        case _:\n",
    "            return \"unknown status\"\n",
    "        \n",
    "print(http_status(566))"
   ]
  },
  {
   "cell_type": "markdown",
   "id": "f1f61897",
   "metadata": {},
   "source": [
    "## 5. Merging Dictionaries (|)\n",
    "\n",
    "- We can combine two separate dicts with | easily "
   ]
  },
  {
   "cell_type": "code",
   "execution_count": 13,
   "id": "3348d423",
   "metadata": {},
   "outputs": [
    {
     "name": "stdout",
     "output_type": "stream",
     "text": [
      "{'sidd': 24, 'apple': 'red', 'joe doe': 50, 'kiwi': 'green'}\n"
     ]
    }
   ],
   "source": [
    "dict1 = {\"sidd\":24, \"apple\": \"red\"}\n",
    "dict2 = {\"joe doe\":50, \"kiwi\": \"green\"}\n",
    "\n",
    "mergeddict = dict1 | dict2\n",
    "\n",
    "print(mergeddict)"
   ]
  },
  {
   "cell_type": "markdown",
   "id": "e9991cda",
   "metadata": {},
   "source": [
    "## 6. Exception Handling"
   ]
  },
  {
   "cell_type": "code",
   "execution_count": 19,
   "id": "af3455b6",
   "metadata": {},
   "outputs": [
    {
     "name": "stdout",
     "output_type": "stream",
     "text": [
      "hello this is an error\n",
      "thankyou!\n"
     ]
    }
   ],
   "source": [
    "#using try and except wont crash our code instead give invalid literal\n",
    "\n",
    "try:\n",
    "\n",
    "    a = int(input(\"hey! enter a number pls\"))\n",
    "    print(a)\n",
    "\n",
    "except ValueError as v:\n",
    "    print(\"hello this is an error\")\n",
    "    \n",
    "except Exception as e:\n",
    "\n",
    "    print(a) #this is giving an error if we write our name by mistake\n",
    "    print(e)\n",
    "\n",
    "print(\"thankyou!\") #the code wont crash instead keeps going on after exception also"
   ]
  },
  {
   "cell_type": "markdown",
   "id": "f7b00ab3",
   "metadata": {},
   "source": [
    "## 8. Enumerate \n"
   ]
  },
  {
   "cell_type": "code",
   "execution_count": 25,
   "id": "cb890b6c",
   "metadata": {},
   "outputs": [
    {
     "name": "stdout",
     "output_type": "stream",
     "text": [
      "the item number at 0 is, 3\n",
      "the item number at 1 is, 53\n",
      "the item number at 2 is, 543\n",
      "the item number at 3 is, 45\n"
     ]
    }
   ],
   "source": [
    "# list = [3,53,543,45]\n",
    "\n",
    "# index = 0\n",
    "# for item in list:\n",
    "#     index +=1\n",
    "#     print(f\"the item number at { index} is, {item}\")\n",
    "\n",
    "#we can simplify this using enumerate\n",
    "\n",
    "for index, item in enumerate(list):\n",
    "    print(f\"the item number at { index} is, {item}\")"
   ]
  },
  {
   "cell_type": "markdown",
   "id": "561414e9",
   "metadata": {},
   "source": [
    "## 9. List Comprehension"
   ]
  },
  {
   "cell_type": "code",
   "execution_count": 30,
   "id": "b0b99af7",
   "metadata": {},
   "outputs": [
    {
     "name": "stdout",
     "output_type": "stream",
     "text": [
      "[1, 4, 9, 16, 25]\n"
     ]
    }
   ],
   "source": [
    "list1 = [1,2,3,4,5]\n",
    "\n",
    "squaredlist = []\n",
    "\n",
    "# for item in list1:\n",
    "#     squaredlist.append(item*item)\n",
    "\n",
    "#use list comprehension for simplicity\n",
    "\n",
    "squaredlist = [i*i for i in list1]\n",
    "\n",
    "\n",
    "print(squaredlist)"
   ]
  }
 ],
 "metadata": {
  "kernelspec": {
   "display_name": "Python 3",
   "language": "python",
   "name": "python3"
  },
  "language_info": {
   "codemirror_mode": {
    "name": "ipython",
    "version": 3
   },
   "file_extension": ".py",
   "mimetype": "text/x-python",
   "name": "python",
   "nbconvert_exporter": "python",
   "pygments_lexer": "ipython3",
   "version": "3.14.0"
  }
 },
 "nbformat": 4,
 "nbformat_minor": 5
}
