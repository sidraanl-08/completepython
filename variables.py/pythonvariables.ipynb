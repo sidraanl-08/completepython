{
 "cells": [
  {
   "cell_type": "markdown",
   "id": "64622800",
   "metadata": {},
   "source": [
    "# Python Exercise For Beginners\n",
    "## Understanding Python Variables\n",
    "\n",
    "Variables are like containers that store some value. We can give variables a name and then use that name to reference value. \n"
   ]
  },
  {
   "cell_type": "code",
   "execution_count": 176,
   "id": "c1be03a1",
   "metadata": {},
   "outputs": [
    {
     "name": "stdout",
     "output_type": "stream",
     "text": [
      "24\n"
     ]
    }
   ],
   "source": [
    "#we use print() function to print our outputs\n",
    "age = 24\n",
    "print (age)"
   ]
  },
  {
   "cell_type": "markdown",
   "id": "826db7db",
   "metadata": {},
   "source": [
    "## Variable Naming Rules\n",
    "creating different types of valid and invalid variables"
   ]
  },
  {
   "cell_type": "code",
   "execution_count": 177,
   "id": "b02da04a",
   "metadata": {},
   "outputs": [
    {
     "name": "stdout",
     "output_type": "stream",
     "text": [
      "sidra amsterdam sia\n"
     ]
    }
   ],
   "source": [
    "name = \"sidra\"\n",
    "city = \"amsterdam\"\n",
    "has_name = \"sia\"\n",
    "print(name, city,  has_name)"
   ]
  },
  {
   "cell_type": "markdown",
   "id": "eb01354f",
   "metadata": {},
   "source": [
    "## DataTypes Of Variables\n",
    "1. Integers > numbers without decimals\n",
    "2. Float > numbers with decimals\n",
    "3. strings > text\n",
    "4. booleans > True/False"
   ]
  },
  {
   "cell_type": "code",
   "execution_count": 178,
   "id": "61c697cc",
   "metadata": {},
   "outputs": [
    {
     "name": "stdout",
     "output_type": "stream",
     "text": [
      "24 <class 'int'>\n",
      "7.4 <class 'float'>\n",
      "i am sidra <class 'str'>\n",
      "True <class 'bool'>\n"
     ]
    }
   ],
   "source": [
    "age = 24\n",
    "height = 7.4\n",
    "aboutme = \"i am sidra\"\n",
    "# in python boolean values are written with capital T, F\n",
    "isstudent = True\n",
    "\n",
    "# using type function to see the datatype\n",
    "print(age, type(age))\n",
    "print(height, type(height))\n",
    "print(aboutme, type(aboutme))\n",
    "print(isstudent, type(isstudent))"
   ]
  },
  {
   "cell_type": "markdown",
   "id": "c235fa59",
   "metadata": {},
   "source": [
    "## Multiple Assignment To Variables\n",
    "For example: a,b,c = 10, 20, 30"
   ]
  },
  {
   "cell_type": "code",
   "execution_count": 179,
   "id": "db48d290",
   "metadata": {},
   "outputs": [
    {
     "name": "stdout",
     "output_type": "stream",
     "text": [
      "4 5 6\n"
     ]
    }
   ],
   "source": [
    "num1, num2, num3 = 4,5,6\n",
    "print(num1, num2, num3)"
   ]
  },
  {
   "cell_type": "markdown",
   "id": "21bafb56",
   "metadata": {},
   "source": [
    "## Swapping Variable Positions Doesnot Affect Output\n",
    "For this, we can use global variables"
   ]
  },
  {
   "cell_type": "code",
   "execution_count": 180,
   "id": "b2293321",
   "metadata": {},
   "outputs": [
    {
     "name": "stdout",
     "output_type": "stream",
     "text": [
      "20 70\n",
      "70 20\n"
     ]
    }
   ],
   "source": [
    "x = 20\n",
    "y = 70\n",
    "print(x,y)\n",
    "print(y,x)"
   ]
  },
  {
   "cell_type": "markdown",
   "id": "223c42f7",
   "metadata": {},
   "source": [
    "## Manipulating Variables With Arithmetic Ops\n",
    "Python uses add, sub, multiply, divide operations to manipulate variables"
   ]
  },
  {
   "cell_type": "code",
   "execution_count": 181,
   "id": "1c6afc39",
   "metadata": {},
   "outputs": [
    {
     "name": "stdout",
     "output_type": "stream",
     "text": [
      "7\n",
      "1\n",
      "12\n",
      "1.3333333333333333\n",
      "1\n"
     ]
    }
   ],
   "source": [
    "x = 4\n",
    "y = 3\n",
    "\n",
    "print(4+3)\n",
    "print(4-3)\n",
    "print(4*3)\n",
    "print(4/3)\n",
    "print(4%3)"
   ]
  },
  {
   "cell_type": "markdown",
   "id": "2f85a1c6",
   "metadata": {},
   "source": [
    "# Type Casting and Type Conversion In Variables \n",
    "\n",
    "Type conversion: it is performed automatically in python \n",
    "Type casting: it is performed manually by the programmer (us)"
   ]
  },
  {
   "cell_type": "code",
   "execution_count": 203,
   "id": "ef4e2c8d",
   "metadata": {},
   "outputs": [
    {
     "name": "stdout",
     "output_type": "stream",
     "text": [
      "5.45\n",
      "<class 'int'> 2\n",
      "<class 'float'> 2.0\n",
      "<class 'float'> 25.0\n",
      "<class 'int'> 30\n",
      "<class 'float'> 23.45\n"
     ]
    }
   ],
   "source": [
    "##IMPORTANT! \n",
    "#input() of every datatype will be a \"string\" \n",
    "## thats why we use type casting to get desred data types as inputs\n",
    "\n",
    "## type conversion \n",
    "## here python has converted integer to a float coz float has decimals, gives more info about a number\n",
    "## a float is superior than an integer thats why python converts integers to floats\n",
    "\n",
    "a = 2\n",
    "b = 3.45\n",
    "\n",
    "sum = a + b\n",
    "print(sum)\n",
    "\n",
    "## type casting\n",
    "## we do this manually in our program\n",
    "\n",
    "# a = \"2\" # a string \n",
    "\n",
    "\n",
    "# using type casting\n",
    "\n",
    "a = int(\"2\")\n",
    "print(type(a), a) #it has changed a string 2 to an integer 2\n",
    "\n",
    "a = float(\"2\")\n",
    "print(type(a), a) #it has changed a string 2 to a floating number 2.0\n",
    "\n",
    "a = 25\n",
    "a = float(a)\n",
    "print(type(a),a) #it has changed an integer 25 to a floating number 25.0 again\n",
    "\n",
    "a = 30.4\n",
    "a = int(a)\n",
    "print(type(a), a) #it has changed a floating number 30.4 to an integer\n",
    "\n",
    "a = float(\"23.45\")\n",
    "print(type(a), a) #it has changed a floating number to a string\n",
    "\n",
    "\n",
    "\n",
    "\n",
    "\n"
   ]
  },
  {
   "cell_type": "markdown",
   "id": "06e97480",
   "metadata": {},
   "source": [
    "## String Concatenation\n",
    "We use + sign to concatenate strings and make a sentence"
   ]
  },
  {
   "cell_type": "code",
   "execution_count": 183,
   "id": "8d218f72",
   "metadata": {},
   "outputs": [
    {
     "name": "stdout",
     "output_type": "stream",
     "text": [
      "Hi my name is sid and I'm a student in Amsterdam. I'm 24 years old.\n"
     ]
    }
   ],
   "source": [
    "first_name = \"sid\"\n",
    "about1 = \"I'm a student\"\n",
    "age = 24\n",
    "\n",
    "# Safe string concatenation using f-string\n",
    "print(f\"Hi my name is {first_name} and {about1} in Amsterdam. I'm {age} years old.\")\n",
    "\n",
    "\n",
    "\n",
    "#python cant add integers to strings during concatenation directly\n",
    "#that's why we use type casting str() to tell python that convert this integer into a string"
   ]
  },
  {
   "cell_type": "markdown",
   "id": "acf4a50f",
   "metadata": {},
   "source": [
    "## Variables Can Change Values Anytime\n",
    "Variables are multiple containers. They can store multiple values and update them also."
   ]
  },
  {
   "cell_type": "code",
   "execution_count": 184,
   "id": "119bff0e",
   "metadata": {},
   "outputs": [
    {
     "name": "stdout",
     "output_type": "stream",
     "text": [
      "35\n",
      "23\n"
     ]
    }
   ],
   "source": [
    "x = 10\n",
    "x = x + 25\n",
    "print(x)\n",
    "\n",
    "x = x - 4 * 3\n",
    "print(x)"
   ]
  },
  {
   "cell_type": "markdown",
   "id": "2d5a9082",
   "metadata": {},
   "source": [
    "## Constant Variables (By Convention)\n",
    "Python doesn’t have true constants, but by convention, uppercase names indicate a value shouldn’t change."
   ]
  },
  {
   "cell_type": "code",
   "execution_count": 185,
   "id": "e61166ff",
   "metadata": {},
   "outputs": [],
   "source": [
    "#python wont throw an erro if we change the value\n",
    "#it just indicates convention\n",
    "PI = 3.142\n",
    "GRAVITY = 9.8"
   ]
  },
  {
   "cell_type": "markdown",
   "id": "85599677",
   "metadata": {},
   "source": [
    "# Python Exercise For Intermediates"
   ]
  },
  {
   "cell_type": "markdown",
   "id": "0ecc804d",
   "metadata": {},
   "source": [
    "## Dynamic Typing \n",
    "We can change type of variables in python"
   ]
  },
  {
   "cell_type": "code",
   "execution_count": 186,
   "id": "857c4b71",
   "metadata": {},
   "outputs": [
    {
     "name": "stdout",
     "output_type": "stream",
     "text": [
      "30 <class 'int'>\n",
      "thirty <class 'str'>\n"
     ]
    }
   ],
   "source": [
    "x = 30\n",
    "print(x, type(x))\n",
    "\n",
    "x = \"thirty\"\n",
    "print(x, type(x))"
   ]
  },
  {
   "cell_type": "markdown",
   "id": "2a3be003",
   "metadata": {},
   "source": [
    "## Mutable And Immutable Variables\n",
    "1. Mutable variables are those whose memory address stays same and content keeps changing (lists, dicts, sets)\n",
    "2. Immutable are those whose memory also changes when value changes (int, tuples, str)\n"
   ]
  },
  {
   "cell_type": "code",
   "execution_count": 187,
   "id": "1818d002",
   "metadata": {},
   "outputs": [
    {
     "name": "stdout",
     "output_type": "stream",
     "text": [
      "20 140721229375192\n",
      "25 140721229375352\n",
      "[1, 2, 3] 1829197284032\n",
      "[1, 2, 3, 4] 1829197284032\n"
     ]
    }
   ],
   "source": [
    "#immutable variables\n",
    "#the memory address also changes, it is the address where an object like list, string, int lives on our machine\n",
    "#the memory adress will change with any changes made, a new obj will be created with a new memory adress\n",
    "num = 20\n",
    "print(num, id(num))\n",
    "\n",
    "num += 5\n",
    "print(num, id(num))\n",
    "\n",
    "#mutable variables\n",
    "#the memory address remains same, but changes can be made\n",
    "list = [1,2,3]\n",
    "print(list, id(list))\n",
    "\n",
    "list.append(4)\n",
    "print(list, id(list))"
   ]
  },
  {
   "cell_type": "markdown",
   "id": "252037e5",
   "metadata": {},
   "source": [
    "## Augmented Assignment\n",
    "Using shortcuts specially while doing arithmetic ops"
   ]
  },
  {
   "cell_type": "code",
   "execution_count": 188,
   "id": "d35b14ba",
   "metadata": {},
   "outputs": [
    {
     "name": "stdout",
     "output_type": "stream",
     "text": [
      "45\n",
      "hello sid\n"
     ]
    }
   ],
   "source": [
    "a = 40\n",
    "#a = a+5 same as a += 5\n",
    "a += 5\n",
    "print(a)\n",
    "\n",
    "b = \"hello\"\n",
    "b += \" sid\"\n",
    "print(b)"
   ]
  },
  {
   "cell_type": "markdown",
   "id": "74113787",
   "metadata": {},
   "source": [
    "## Scope Of Variables\n",
    "1. Scope means: how variables behave inside functions\n",
    "2. Overlaps with: subtopic of python functions\n",
    "3. Python has 4 variable scopes > local, global, enclosing, built-in"
   ]
  },
  {
   "cell_type": "code",
   "execution_count": 189,
   "id": "41bd25cf",
   "metadata": {},
   "outputs": [
    {
     "name": "stdout",
     "output_type": "stream",
     "text": [
      "300\n",
      "100\n",
      "100\n"
     ]
    }
   ],
   "source": [
    "#local variables\n",
    "#they exist only inside functions\n",
    "#accessing them from outside will cause error\n",
    "def function():\n",
    "    local_var = 300\n",
    "    print(local_var)\n",
    "\n",
    "function()\n",
    "\n",
    "#global variables\n",
    "#they can be accessed inside and outside functions both\n",
    "#anywhere in the codes\n",
    "#assigning to global inside function requires global keyword\n",
    "global_var = 100\n",
    "def function():\n",
    "     print(global_var)\n",
    "\n",
    "function()\n",
    "print(global_var)"
   ]
  },
  {
   "cell_type": "markdown",
   "id": "2d59bddf",
   "metadata": {},
   "source": [
    "## Shadowing\n",
    "1. Local variable with the same name as a global variable hides the global inside the function\n",
    "2. We can use shadowing when we want to avoid overwrites"
   ]
  },
  {
   "cell_type": "code",
   "execution_count": 190,
   "id": "52047ce7",
   "metadata": {},
   "outputs": [
    {
     "name": "stdout",
     "output_type": "stream",
     "text": [
      "inside: 200\n",
      "outisde: 100\n"
     ]
    }
   ],
   "source": [
    "variable1 = 100 #global variable\n",
    "\n",
    "def shadow_test():\n",
    "    variable1 = 200 #local variable with same name as global variable\n",
    "    print(\"inside:\", variable1)\n",
    "\n",
    "shadow_test()\n",
    "print(\"outisde:\", variable1)"
   ]
  },
  {
   "cell_type": "markdown",
   "id": "6f1fc5b2",
   "metadata": {},
   "source": [
    "## Memory Reference id()\n"
   ]
  },
  {
   "cell_type": "code",
   "execution_count": 191,
   "id": "a3f2b47a",
   "metadata": {},
   "outputs": [
    {
     "name": "stdout",
     "output_type": "stream",
     "text": [
      "[1, 2, 3, 4, 5, 6] 1829197284544\n",
      "[1, 2, 3, 4, 5, 6] 1829197284544\n",
      "[1, 2, 3, 4, 5, 6, 7] 1829197284544\n",
      "[1, 2, 3, 4, 5, 6, 7] 1829197284544\n"
     ]
    }
   ],
   "source": [
    "#if we add something to b, it will also impact the memory address of a but both will be same\n",
    "a = [1,2,3,4,5,6]\n",
    "b = a\n",
    "print(a, id(a))\n",
    "print(b, id(b))\n",
    "\n",
    "b.append(7)\n",
    "print(a, id(a))\n",
    "print(b, id(b))\n"
   ]
  },
  {
   "cell_type": "markdown",
   "id": "fe0d5cc5",
   "metadata": {},
   "source": [
    "# Challenge Exercise - Python Variables"
   ]
  },
  {
   "cell_type": "code",
   "execution_count": 192,
   "id": "f0e5939d",
   "metadata": {},
   "outputs": [
    {
     "name": "stdout",
     "output_type": "stream",
     "text": [
      "[1, 2, 3, 4] 1829197285312\n",
      "[6, 7, 8, 9] 1829197283456\n",
      "[6, 7, 8, 9, 30]\n",
      "50 140721229376152\n",
      "100 140721229377752\n",
      "125 140721229378552\n"
     ]
    }
   ],
   "source": [
    "list1 = [1,2,3,4]\n",
    "list2 = [6,7,8,9]\n",
    "print(list1, id(list1))\n",
    "print(list2, id(list2))\n",
    "\n",
    "list2.append(30)\n",
    "print(list2)\n",
    "\n",
    "num = 50\n",
    "num2 = 100\n",
    "print(num, id(num))\n",
    "print(num2, id(num2))\n",
    "\n",
    "num2 += 25\n",
    "print(num2, id(num2))"
   ]
  },
  {
   "cell_type": "markdown",
   "id": "7a12ec81",
   "metadata": {},
   "source": [
    "## Inputs In Python\n",
    "\n",
    "### Input statement is used to accept values using keyboard from the user "
   ]
  },
  {
   "cell_type": "code",
   "execution_count": 193,
   "id": "8272519e",
   "metadata": {},
   "outputs": [],
   "source": [
    "# here we ar using input() to ask input from our user\n",
    "# when we use input it does not stop our program instantly\n",
    "# instead it will ask for our name, age, anything that we r trying to ask from our user through input()\n",
    "# once we give our input, python will return it for us as a result\n",
    "\n",
    "# input(\"enter your name:\")\n",
    "\n",
    "# we can also store this input statement in a variable \n",
    "\n",
    "# name = input(\"enter your name:\")\n",
    "# print(\"welcome\", name)\n",
    "\n",
    "# we can give anything to our input statement\n",
    "\n",
    "# age = input(\"enter your age please\")\n",
    "# print(\"your age is:\", age)\n",
    "\n",
    "\n",
    "# result of every input() will always be a string unless we use type casting!\n",
    "\n",
    "# val = input(\"enter some value pls\")\n",
    "# print((type(val)), val)\n",
    "\n",
    "# use float type casting to print decimal input \n",
    "\n",
    "# val2 = float(input(\"enter your fav value\"))\n",
    "# print(type(val2), val2)\n",
    "\n",
    "# # use int type casting to print integer input \n",
    "\n",
    "# val3 = int(input(\"enter an integer\"))\n",
    "# print(type(val3), val3)\n",
    "\n",
    "# taking inputs of name, age, and grades!!!\n",
    "\n",
    "# name = input(\"enter your name\")\n",
    "# print(type(name), name)\n",
    "\n",
    "# age = int(input(\"enter your age\"))\n",
    "# print(type(age), age)\n",
    "\n",
    "# grade = float(input(\"enter your grade\"))\n",
    "# print(type(grade), grade)"
   ]
  },
  {
   "cell_type": "markdown",
   "id": "19743d7b",
   "metadata": {},
   "source": [
    "# Strings In Python"
   ]
  },
  {
   "cell_type": "code",
   "execution_count": 194,
   "id": "8af0651a",
   "metadata": {},
   "outputs": [
    {
     "name": "stdout",
     "output_type": "stream",
     "text": [
      "this is a string this is also a string this is also a string \n"
     ]
    }
   ],
   "source": [
    "str1 = \"this is a string\"\n",
    "str2 = 'this is also a string'\n",
    "str3 = \"\"\"this is also a string \"\"\"\n",
    "\n",
    "print(str1, str2, str3)"
   ]
  },
  {
   "cell_type": "markdown",
   "id": "5ce266a1",
   "metadata": {},
   "source": [
    "## Formatting Strings With Escape Characters \n",
    "\n",
    "- We use escape sequence characters like \\n (next line), \\t (tab) to format our strings in python"
   ]
  },
  {
   "cell_type": "code",
   "execution_count": 195,
   "id": "990f68f6",
   "metadata": {},
   "outputs": [
    {
     "name": "stdout",
     "output_type": "stream",
     "text": [
      "im a python beginner.\n",
      "i love python coz its easy to learn and understand\n"
     ]
    }
   ],
   "source": [
    "str = \"im a python beginner.\\ni love python coz its easy to learn and understand\"\n",
    "print(str)"
   ]
  },
  {
   "cell_type": "markdown",
   "id": "4739a081",
   "metadata": {},
   "source": [
    "## Basic Ops Performed On Strings\n"
   ]
  },
  {
   "cell_type": "markdown",
   "id": "54ab7624",
   "metadata": {},
   "source": [
    "## 1. String Concatenation\n",
    "\n",
    "- We use plus sign to join strings together\n",
    "- Be careful about the spaces if you want formating "
   ]
  },
  {
   "cell_type": "code",
   "execution_count": 196,
   "id": "665f99ab",
   "metadata": {},
   "outputs": [
    {
     "name": "stdout",
     "output_type": "stream",
     "text": [
      "hi sid\n",
      "my name is sidra but who r u? i dont know u!\n"
     ]
    }
   ],
   "source": [
    "str = \"hi\"\n",
    "str2 = \" sid\"\n",
    "\n",
    "print(str + str2)\n",
    "\n",
    "sent1 = \"my name is sidra but who r u?\"\n",
    "sent2 = \" i dont know u!\"\n",
    "print(sent1 + sent2)"
   ]
  },
  {
   "cell_type": "markdown",
   "id": "ada23191",
   "metadata": {},
   "source": [
    "## 2. Finding Length Of A String With len()\n",
    "\n",
    "- The len() function gives us entire length of strings i.e. total number of letters in a strings\n",
    "- The len() function also counts spaces between multiple words/substrings in a string"
   ]
  },
  {
   "cell_type": "code",
   "execution_count": 197,
   "id": "614e9ba6",
   "metadata": {},
   "outputs": [
    {
     "name": "stdout",
     "output_type": "stream",
     "text": [
      "8\n",
      "23\n",
      "6\n"
     ]
    }
   ],
   "source": [
    "name = \"sidraaaa\"\n",
    "print(len(name))\n",
    "\n",
    "sent1 = \"this is python exericse\"\n",
    "print(len(sent1))\n",
    "\n",
    "word1 = \"sid\"\n",
    "word2 = \"nl\" \n",
    "\n",
    "# if we add extra space here, it will also be counted\n",
    "\n",
    "finalword = word1  + \" \" + word2\n",
    "print(len(finalword))"
   ]
  },
  {
   "cell_type": "markdown",
   "id": "7e2690b1",
   "metadata": {},
   "source": [
    "## 3. Indexing In Strings\n",
    "\n",
    "- Index of strings is the invidiual position of all characters present inside that string\n",
    "- Indexing of strings in python always starts with 0\n",
    "- We can access characters in a string with help of indices \n",
    "- We can only access indices in python not manipulate or modify them"
   ]
  },
  {
   "cell_type": "code",
   "execution_count": 198,
   "id": "5150fe3e",
   "metadata": {},
   "outputs": [
    {
     "name": "stdout",
     "output_type": "stream",
     "text": [
      "r\n",
      "e\n",
      "t\n",
      "o\n"
     ]
    }
   ],
   "source": [
    "entry = \"amsterdam\"\n",
    "wantedindex = entry[5]\n",
    "print(wantedindex)\n",
    "\n",
    "entry = \"house\"\n",
    "wantedindex =entry[4]\n",
    "print(wantedindex)\n",
    "\n",
    "entry = \"tulip\"\n",
    "wantedindex =entry[0]\n",
    "print(wantedindex)\n",
    "\n",
    "entry = \"robots\"\n",
    "wantedindex =entry[1]\n",
    "print(wantedindex)"
   ]
  },
  {
   "cell_type": "markdown",
   "id": "2c29808e",
   "metadata": {},
   "source": [
    "## 4. Slicing In Python Strings (Positive Indices)\n",
    "\n",
    "- Slicing cuts and separates substrings in a string\n",
    "- But it does not count the last index\n",
    "- They start from 0 and keep increasing forward"
   ]
  },
  {
   "cell_type": "code",
   "execution_count": 199,
   "id": "62a431c4",
   "metadata": {},
   "outputs": [
    {
     "name": "stdout",
     "output_type": "stream",
     "text": [
      "sid\n",
      "mother\n",
      "are you a good girl\n",
      "girl\n",
      "are\n"
     ]
    }
   ],
   "source": [
    "# here it has started from 0 index and went till 2, it didnt count 3 \n",
    "\n",
    "name = \"sidranl\"\n",
    "print(name[0:3])\n",
    "\n",
    "sent = \"i love my mother\"\n",
    "\n",
    "# we can also use len() to reach untill end of a string\n",
    "print(sent[10:len(sent)])\n",
    "\n",
    "# leaving the ending index will give the entire string\n",
    "quest = \"are you a good girl\"\n",
    "print(quest[0:])\n",
    "\n",
    "# this means we want to go till the end from 15\n",
    "quest = \"are you a good girl\"\n",
    "print(quest[15:])\n",
    "\n",
    "# this means we want to start from 0 untill 3\n",
    "quest = \"are you a good girl\"\n",
    "print(quest[:3])"
   ]
  },
  {
   "cell_type": "markdown",
   "id": "87a7e591",
   "metadata": {},
   "source": [
    "## 5. Slicing In Python Strings (Negative Indices)\n",
    "\n",
    "- They start from -1 and keep decreasing backwards \n",
    "- It also skips the last index"
   ]
  },
  {
   "cell_type": "code",
   "execution_count": 200,
   "id": "0aefd2d2",
   "metadata": {},
   "outputs": [
    {
     "name": "stdout",
     "output_type": "stream",
     "text": [
      "pytho\n"
     ]
    }
   ],
   "source": [
    "# here it has skipped the last index -1 and printed pytho only\n",
    "\n",
    "quest = \"are you python\"\n",
    "print(quest[-6:-1])"
   ]
  },
  {
   "cell_type": "markdown",
   "id": "d6c850b8",
   "metadata": {},
   "source": [
    "## 6. Functions In Python Strings\n",
    "\n",
    "- .endswith() will return true if a string ends with substring\n",
    "- .capitalize() will capitalize first character\n",
    "- .replace() will replace all old occurrences with new\n",
    "- .find() will return first occurence of first index\n",
    "- .count() will count occurrence of substring in a string"
   ]
  },
  {
   "cell_type": "code",
   "execution_count": 201,
   "id": "4fed251a",
   "metadata": {},
   "outputs": [
    {
     "name": "stdout",
     "output_type": "stream",
     "text": [
      "True\n",
      "False\n",
      "Sidraa\n",
      "im learning pythsn frsm apna csllege\n",
      "im learning python from chatgpt\n",
      "12\n",
      "3\n",
      "3\n",
      "4\n",
      "1\n"
     ]
    }
   ],
   "source": [
    "## dot endswith()\n",
    "# it will check whether this value ends with \"ra\" or not\n",
    "\n",
    "myobj = \"im sidra\"\n",
    "print(myobj.endswith(\"ra\"))\n",
    "\n",
    "# it doesnt end with \"geesh\" so it gives false\n",
    "\n",
    "myobj = \"python\"\n",
    "print(myobj.endswith(\"geesh\"))\n",
    "\n",
    "## dot capitalize()\n",
    "\n",
    "myobj = \"sidraa\"\n",
    "print(myobj.capitalize())\n",
    "\n",
    "## dot replace()\n",
    "### we can change characters and words both\n",
    "### first pass old value then new value \n",
    "\n",
    "myobj = \"im learning python from apna college\"\n",
    "print(myobj.replace(\"o\", \"s\"))\n",
    "\n",
    "myobj = \"im learning python from apna college\"\n",
    "print(myobj.replace(\"apna college\", \"chatgpt\"))\n",
    "\n",
    "# dot find()\n",
    "# gives the index of first occurence we want to find\n",
    "\n",
    "myobj = \"im learning python from apna college\"\n",
    "print(myobj.find(\"p\"))\n",
    "\n",
    "myobj = \"im learning python from apna college\"\n",
    "print(myobj.find(\"learning\"))\n",
    "\n",
    "# dot count()\n",
    "# gives the index for the number of occurences\n",
    "\n",
    "str1 = \"im learning python from apna college\"\n",
    "print(str1.count(\"o\"))\n",
    "\n",
    "str2 = \"im learning python from apna college\"\n",
    "print(str2.count(\"n\"))\n",
    "\n",
    "str3 = \"im learning python from apna college\"\n",
    "print(str3.count(\"college\"))\n",
    "\n"
   ]
  }
 ],
 "metadata": {
  "kernelspec": {
   "display_name": "Python 3",
   "language": "python",
   "name": "python3"
  },
  "language_info": {
   "codemirror_mode": {
    "name": "ipython",
    "version": 3
   },
   "file_extension": ".py",
   "mimetype": "text/x-python",
   "name": "python",
   "nbconvert_exporter": "python",
   "pygments_lexer": "ipython3",
   "version": "3.14.0"
  }
 },
 "nbformat": 4,
 "nbformat_minor": 5
}
