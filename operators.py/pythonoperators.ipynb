{
 "cells": [
  {
   "cell_type": "markdown",
   "id": "ed89dd59",
   "metadata": {},
   "source": [
    "# Python Operators For Beginners\n",
    "\n",
    "## Understanding Operators In Python\n",
    "\n",
    "There are many types of operators in python that we r going to study down below: \n"
   ]
  },
  {
   "cell_type": "markdown",
   "id": "4b7f2e41",
   "metadata": {},
   "source": [
    "## 1. Arithmetic Operations\n",
    "\n",
    "### They help us perform different arithmetic operations on values\n",
    "\n",
    "| Operator | Meaning             | Example  | Output |\n",
    "| -------- | ------------------- | -------- | ------ |\n",
    "| `+`      | Addition            | `3 + 2`  | `5`    |\n",
    "| `-`      | Subtraction         | `5 - 2`  | `3`    |\n",
    "| `*`      | Multiplication      | `4 * 3`  | `12`   |\n",
    "| `/`      | Division (float)    | `7 / 2`  | `3.5`  |\n",
    "| `//`     | Floor Division      | `7 // 2` | `3`    |\n",
    "| `%`      | Modulus (remainder) | `7 % 2`  | `1`    |\n",
    "| `**`     | Exponentiation      | `2 ** 3` | `8`    |\n"
   ]
  },
  {
   "cell_type": "code",
   "execution_count": 54,
   "id": "2382b130",
   "metadata": {},
   "outputs": [
    {
     "name": "stdout",
     "output_type": "stream",
     "text": [
      "-4\n",
      "25\n",
      "15\n",
      "100\n",
      "4.0\n",
      "4\n",
      "0\n",
      "3200000\n"
     ]
    }
   ],
   "source": [
    "# difference between normal div in python and floor divison \n",
    "# normal div just gives us the decimal part\n",
    "# floor div gives the integer part (positive numbers)\n",
    "# floor div gives the integer part part rounds down (negative numbers)\n",
    "\n",
    "a = 20\n",
    "b = 5\n",
    "\n",
    "d = -7\n",
    "e = 2\n",
    "print (d//e) #here it goes from -3.5 to -4 not zero\n",
    "\n",
    "print(a + b)\n",
    "print(a - b)\n",
    "print(a * b)\n",
    "print(a / b)\n",
    "print(a // b)\n",
    "print(a %  b)\n",
    "print(a ** b)"
   ]
  },
  {
   "cell_type": "markdown",
   "id": "3fd41c7d",
   "metadata": {},
   "source": [
    "## 2. Comparison Operators\n",
    "\n",
    "### They help us compare different values\n",
    "### They always return True, False Boolean Values\n",
    "\n",
    "| Operator | Meaning          | Example  | Result |\n",
    "| -------- | ---------------- | -------- | ------ |\n",
    "| `==`     | Equal to         | `5 == 5` | True   |\n",
    "| `!=`     | Not equal to     | `5 != 3` | True   |\n",
    "| `>`      | Greater than     | `7 > 3`  | True   |\n",
    "| `<`      | Less than        | `2 < 5`  | True   |\n",
    "| `>=`     | Greater or equal | `5 >= 5` | True   |\n",
    "| `<=`     | Less or equal    | `3 <= 7` | True   |\n",
    "\n"
   ]
  },
  {
   "cell_type": "code",
   "execution_count": 55,
   "id": "42a10d54",
   "metadata": {},
   "outputs": [
    {
     "name": "stdout",
     "output_type": "stream",
     "text": [
      "False\n",
      "True\n",
      "True\n",
      "True\n",
      "False\n",
      "False\n"
     ]
    }
   ],
   "source": [
    "f = 50\n",
    "g = 40\n",
    "\n",
    "print(f==g)\n",
    "print(f!=g)\n",
    "print(f>g)\n",
    "print(f>=g)\n",
    "print(f<g)\n",
    "print(f<=g)\n"
   ]
  },
  {
   "cell_type": "markdown",
   "id": "e644d758",
   "metadata": {},
   "source": [
    "## 3. Assignment Operators\n",
    "\n",
    "### They help us assign values in python\n",
    "\n",
    "| Operator | Meaning             | Example   | Equivalent To |\n",
    "| -------- | ------------------- | --------- | ------------- |\n",
    "| `=`      | Assign              | `x = 5`   | —             |\n",
    "| `+=`     | Add and assign      | `x += 3`  | `x = x + 3`   |\n",
    "| `-=`     | Subtract and assign | `x -= 2`  | `x = x - 2`   |\n",
    "| `*=`     | Multiply and assign | `x *= 2`  | `x = x * 2`   |\n",
    "| `/=`     | Divide and assign   | `x /= 2`  | `x = x / 2`   |\n",
    "| `%=`     | Modulus and assign  | `x %= 3`  | `x = x % 3`   |\n",
    "| `**=`    | Exponent and assign | `x **= 2` | `x = x ** 2`  |\n"
   ]
  },
  {
   "cell_type": "code",
   "execution_count": 56,
   "id": "88e30566",
   "metadata": {},
   "outputs": [
    {
     "name": "stdout",
     "output_type": "stream",
     "text": [
      "150\n",
      "90\n",
      "15\n",
      "2000\n",
      "2.75\n",
      "0\n",
      "16\n"
     ]
    }
   ],
   "source": [
    "a = 100\n",
    "a = a + 50\n",
    "print(a)\n",
    "\n",
    "s = 70\n",
    "s += 20 \n",
    "print(s)\n",
    "\n",
    "b = 35\n",
    "b -= 20 \n",
    "print(b)\n",
    "\n",
    "num = 100\n",
    "num *= 20 \n",
    "print(num)\n",
    "\n",
    "val = 5.5\n",
    "val /= 2\n",
    "print(val)\n",
    "\n",
    "val = 93\n",
    "val %= 3\n",
    "print(val)\n",
    "\n",
    "num = 4\n",
    "num **= 2\n",
    "print(num)\n",
    "\n"
   ]
  },
  {
   "cell_type": "markdown",
   "id": "c5a6a510",
   "metadata": {},
   "source": [
    " ## 4. Logical Operators\n",
    "\n",
    "### They help us add logic to our code \n",
    "### Specially useful in conditionals \n",
    "\n",
    "| Operator | Meaning                      | Example           | Result |\n",
    "| -------- | ---------------------------- | ----------------- | ------ |\n",
    "| `and`    | True if both conditions true | `5 > 3 and 4 < 6` | True   |\n",
    "| `or`     | True if any condition true   | `5 > 8 or 4 < 6`  | True   |\n",
    "| `not`    | Inverts the condition        | `not(5 > 3)`      | False  |\n"
   ]
  },
  {
   "cell_type": "code",
   "execution_count": null,
   "id": "9353feb8",
   "metadata": {},
   "outputs": [
    {
     "name": "stdout",
     "output_type": "stream",
     "text": [
      "this is valid info\n",
      "True\n",
      "False\n"
     ]
    }
   ],
   "source": [
    "## and operator logic\n",
    "## both conditions should be true \n",
    "\n",
    "name = \"sid\"\n",
    "age = 24\n",
    "\n",
    "if (name == \"sid\" and age == 24):\n",
    "    print(\"this is valid info\")\n",
    "\n",
    "\n",
    "a = 70\n",
    "b = 10\n",
    "\n",
    "print(a>b and b<a)\n",
    "\n",
    "c = 65\n",
    "d = 100\n",
    "\n",
    "print(d<c and c>d)"
   ]
  },
  {
   "cell_type": "code",
   "execution_count": 58,
   "id": "bed54a38",
   "metadata": {},
   "outputs": [
    {
     "name": "stdout",
     "output_type": "stream",
     "text": [
      "this is not sidra\n",
      "True\n",
      "False\n"
     ]
    }
   ],
   "source": [
    "## or operator logic\n",
    "## one of the conditions should be true\n",
    "## if we want to make the result false with or, both conditions should be false\n",
    "\n",
    "hasname = \"sid\"\n",
    "ofage = 10\n",
    "\n",
    "if (hasname == \"dan\" or ofage == 24):\n",
    "    print(\"this is sidra\")\n",
    "else:\n",
    "    print(\"this is not sidra\")\n",
    "\n",
    "\n",
    "num = 40\n",
    "num2 = 5\n",
    "\n",
    "print(num<num2 or num2<num)\n",
    "\n",
    "val = 100\n",
    "val2 = 0.0\n",
    "\n",
    "print(val<val2 or val2>val)"
   ]
  },
  {
   "cell_type": "code",
   "execution_count": 59,
   "id": "07d0fdc4",
   "metadata": {},
   "outputs": [
    {
     "name": "stdout",
     "output_type": "stream",
     "text": [
      "True\n",
      "False\n"
     ]
    }
   ],
   "source": [
    "# not operator\n",
    "## it flips the boolean value in result\n",
    "\n",
    "a = 50\n",
    "b = 200\n",
    "\n",
    "print(not(a==b))\n",
    "print(a==b)"
   ]
  },
  {
   "cell_type": "markdown",
   "id": "5811b2c1",
   "metadata": {},
   "source": [
    "# Python Operators For Intermediates\n"
   ]
  },
  {
   "cell_type": "markdown",
   "id": "9161b559",
   "metadata": {},
   "source": [
    "## 1. Identity & Membership Ops\n",
    "\n",
    "| Operator | Type       | Meaning                                    | Example                        | Output |\n",
    "| -------- | ---------- | ------------------------------------------ | ------------------------------ | ------ |\n",
    "| `is`     | Identity   | True if both refer to the same object      | `a = [1]; b = a; a is b`       | True   |\n",
    "| `is not` | Identity   | True if not the same object                | `a = [1]; b = [1]; a is not b` | True   |\n",
    "| `in`     | Membership | True if value exists in a sequence         | `2 in [1,2,3]`                 | True   |\n",
    "| `not in` | Membership | True if value does not exist in a sequence | `5 not in [1,2,3]`             | True   |\n"
   ]
  },
  {
   "cell_type": "code",
   "execution_count": 74,
   "id": "8a56ae2d",
   "metadata": {},
   "outputs": [
    {
     "name": "stdout",
     "output_type": "stream",
     "text": [
      "True\n",
      "False\n",
      "True\n",
      "True\n",
      "False\n",
      "False\n",
      "False\n",
      "True\n",
      "False\n",
      "False\n",
      "True\n",
      "False\n"
     ]
    }
   ],
   "source": [
    "## identity ops (is, is not) check whether a value refers to a same obj or not\n",
    "\n",
    "x = [1,2,3]\n",
    "y = x\n",
    "\n",
    "print(x is y)\n",
    "print(x is not y)\n",
    "\n",
    "\n",
    "## membership ops (in, not in) check whether a value exists in a sequence or not\n",
    "\n",
    "a = \"sidra\"\n",
    "s = \"sidra\"\n",
    "i = \"sidra\"\n",
    "r = \"sidra\"\n",
    "g = \"sidra\"\n",
    "\n",
    "print(a in \"sidra\")\n",
    "print(i in \"sidra\")\n",
    "print(s not in \"sidra\")\n",
    "print(r not in \"sidra\")\n",
    "print(\"g\" in \"sidra\") # by using \"g\" we are telling python to check whether \"g\" is a letter in sidra\n",
    "\n",
    "\n",
    "# we declare a variable with a value like this\n",
    "\n",
    "word = \"house\"\n",
    "\n",
    "# make another variable to check if a a letter, a word, or a substring exists in a string\n",
    "\n",
    "#hou exists in word house so its true\n",
    "a = \"hou\"\n",
    "print(a in word)\n",
    "\n",
    "#ouse exists in word house so its true\n",
    "b = \"ouse\"\n",
    "print(b not in word)\n",
    "\n",
    "#house is itself the word but we used not in membership op so its false\n",
    "c = \"house\"\n",
    "print(c not in word) \n",
    "\n",
    "\n",
    "sentence = \"my name is sid\"\n",
    "\n",
    "check1 = \"my\"\n",
    "print(check1 in sentence)\n",
    "\n",
    "check2 = \"name\"\n",
    "print(check2 not in sentence)\n"
   ]
  }
 ],
 "metadata": {
  "kernelspec": {
   "display_name": "Python 3",
   "language": "python",
   "name": "python3"
  },
  "language_info": {
   "codemirror_mode": {
    "name": "ipython",
    "version": 3
   },
   "file_extension": ".py",
   "mimetype": "text/x-python",
   "name": "python",
   "nbconvert_exporter": "python",
   "pygments_lexer": "ipython3",
   "version": "3.14.0"
  }
 },
 "nbformat": 4,
 "nbformat_minor": 5
}
